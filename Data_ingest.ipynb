{
 "cells": [
  {
   "cell_type": "code",
   "execution_count": null,
   "id": "5fc99a6d-c9c1-4bb2-8ca1-0d3d26ee6ab2",
   "metadata": {},
   "outputs": [],
   "source": [
    "import boto3, re, sys, math, json, os, sagemaker, urllib.request\n",
    "import io\n",
    "import sagemaker\n",
    "from sagemaker import get_execution_role\n",
    "from IPython.display import Image\n",
    "from IPython.display import display\n",
    "from time import gmtime, strftime\n",
    "from sagemaker.predictor import csv_serializer\n",
    "from pyathena import connect\n",
    "import pandas as pd\n",
    "import numpy as np\n",
    "import matplotlib.pyplot as plt\n",
    "import seaborn as sns\n",
    "from prettytable import PrettyTable \n",
    "from imblearn.over_sampling import SMOTE, ADASYN\n",
    "from sklearn.decomposition import PCA\n",
    "from sklearn.model_selection import train_test_split, \\\n",
    "RepeatedStratifiedKFold, RandomizedSearchCV\n",
    "from sklearn.metrics import roc_curve, auc, mean_squared_error,\\\n",
    "precision_score, recall_score, f1_score, accuracy_score,\\\n",
    "confusion_matrix, plot_confusion_matrix, classification_report\n",
    "from sagemaker.tuner import HyperparameterTuner\n",
    "from sklearn.linear_model import LogisticRegression\n",
    "from sklearn.ensemble import RandomForestClassifier\n",
    "from scipy.stats import loguniform\n",
    "import warnings\n",
    "warnings.filterwarnings('ignore')"
   ]
  },
  {
   "cell_type": "code",
   "execution_count": null,
   "id": "9e9dafe6-7e87-44b1-a0db-3f03fc995d2b",
   "metadata": {},
   "outputs": [],
   "source": [
    "sess = sagemaker.Session()\n",
    "bucket = sess.default_bucket()\n",
    "role = sagemaker.get_execution_role()\n",
    "region = boto3.Session().region_name"
   ]
  },
  {
   "cell_type": "code",
   "execution_count": null,
   "id": "5d7f6039-9b8b-4b17-9459-b070dbe58257",
   "metadata": {},
   "outputs": [],
   "source": [
    "ingest_create_athena_db_passed = False"
   ]
  },
  {
   "cell_type": "code",
   "execution_count": null,
   "id": "06be090e-d8b0-45c1-9123-721f8daf484a",
   "metadata": {},
   "outputs": [],
   "source": [
    "# set a database name\n",
    "database_name = \"inspection\""
   ]
  },
  {
   "cell_type": "code",
   "execution_count": null,
   "id": "8cb82291-26d8-4d4a-b6d1-0a7520a0a6e3",
   "metadata": {},
   "outputs": [],
   "source": [
    "# Set S3 staging directory -- this is a temporary directory used for Athena queries\n",
    "s3_staging_dir = \"s3://{0}/athena/staging\".format(bucket)"
   ]
  },
  {
   "cell_type": "code",
   "execution_count": null,
   "id": "e28990ac-6e8f-4d14-8d5f-eb786da6499b",
   "metadata": {},
   "outputs": [],
   "source": [
    "conn = connect(region_name=region, s3_staging_dir=s3_staging_dir)"
   ]
  },
  {
   "cell_type": "code",
   "execution_count": null,
   "id": "e3f0a162-862e-4342-95c1-aa9e48a3e842",
   "metadata": {},
   "outputs": [],
   "source": [
    "statement = \"CREATE DATABASE IF NOT EXISTS {}\".format(database_name)\n",
    "print(statement)\n",
    "pd.read_sql(statement, conn)"
   ]
  },
  {
   "cell_type": "code",
   "execution_count": null,
   "id": "ac7050f6-3889-4c3e-90ce-9a6a9a0fcfe6",
   "metadata": {},
   "outputs": [],
   "source": [
    "restaurant_dir = 's3://inspection_team6/raw_files'"
   ]
  },
  {
   "cell_type": "code",
   "execution_count": null,
   "id": "a3fe0a9b-a6ba-42d2-9895-1f8b7a0475e9",
   "metadata": {},
   "outputs": [],
   "source": [
    "# SQL statement to execute the analyte tests drinking water table\n",
    "\n",
    "table_name ='inspections'\n",
    "pd.read_sql(f'DROP TABLE IF EXISTS {database_name}.{table_name}', conn)\n",
    "\n",
    "\n",
    "create_table = f\"\"\"\n",
    "CREATE EXTERNAL TABLE IF NOT EXISTS {database_name}.{table_name}(\n",
    "                #table info\n",
    "                )\n",
    "                \n",
    "                ROW FORMAT DELIMITED\n",
    "                FIELDS TERMINATED BY ','\n",
    "                LOCATION '{water_dir}/{table_name}'\n",
    "                TBLPROPERTIES ('skip.header.line.count'='1')\n",
    "\"\"\"\n",
    "\n",
    "pd.read_sql(create_table, conn)\n",
    "\n",
    "pd.read_sql(f'SELECT * FROM {database_name}.{table_name} LIMIT 5', conn)"
   ]
  },
  {
   "cell_type": "code",
   "execution_count": null,
   "id": "1a857e99-69a1-4ab5-a225-694317cc99ff",
   "metadata": {},
   "outputs": [],
   "source": [
    "table_name ='locations'\n",
    "pd.read_sql(f'DROP TABLE IF EXISTS {database_name}.{table_name}', conn)\n",
    "\n",
    "\n",
    "create_table = f\"\"\"\n",
    "CREATE EXTERNAL TABLE IF NOT EXISTS {database_name}.{table_name}(\n",
    "                #table info\n",
    "                )\n",
    "                \n",
    "                ROW FORMAT DELIMITED\n",
    "                FIELDS TERMINATED BY ','\n",
    "                LOCATION '{water_dir}/{table_name}'\n",
    "                TBLPROPERTIES ('skip.header.line.count'='1')\n",
    "\"\"\"\n",
    "\n",
    "pd.read_sql(create_table, conn)\n",
    "\n",
    "pd.read_sql(f'SELECT * FROM {database_name}.{table_name} LIMIT 5', conn)"
   ]
  },
  {
   "cell_type": "code",
   "execution_count": null,
   "id": "26b309ee-51ce-4d5f-8c61-1c99032b6b42",
   "metadata": {},
   "outputs": [],
   "source": [
    "table_name ='business'\n",
    "pd.read_sql(f'DROP TABLE IF EXISTS {database_name}.{table_name}', conn)\n",
    "\n",
    "\n",
    "create_table = f\"\"\"\n",
    "CREATE EXTERNAL TABLE IF NOT EXISTS {database_name}.{table_name}(\n",
    "                #table info\n",
    "                )\n",
    "                \n",
    "                ROW FORMAT DELIMITED\n",
    "                FIELDS TERMINATED BY ','\n",
    "                LOCATION '{water_dir}/{table_name}'\n",
    "                TBLPROPERTIES ('skip.header.line.count'='1')\n",
    "\"\"\"\n",
    "\n",
    "pd.read_sql(create_table, conn)\n",
    "\n",
    "pd.read_sql(f'SELECT * FROM {database_name}.{table_name} LIMIT 5', conn)"
   ]
  },
  {
   "cell_type": "code",
   "execution_count": null,
   "id": "ae38f4b9-3922-46d7-9308-57f46da23bc4",
   "metadata": {},
   "outputs": [],
   "source": [
    "statement = \"SHOW DATABASES\"\n",
    "df_show = pd.read_sql(statement, conn)\n",
    "df_show.head(5)"
   ]
  },
  {
   "cell_type": "code",
   "execution_count": null,
   "id": "f809984d-04b5-454a-8595-34cbde9edad0",
   "metadata": {},
   "outputs": [],
   "source": [
    "if database_name in df_show.values:\n",
    "    ingest_create_athena_db_passed = True"
   ]
  },
  {
   "cell_type": "code",
   "execution_count": null,
   "id": "6dec7844-ad3e-4299-bd85-ce5bbff3b74d",
   "metadata": {},
   "outputs": [],
   "source": [
    "%store ingest_create_athena_db_passed"
   ]
  },
  {
   "cell_type": "code",
   "execution_count": null,
   "id": "7b9a06c7-e0ef-416e-ac0d-dfa7c2fea28f",
   "metadata": {},
   "outputs": [],
   "source": [
    "pd.read_sql(f'SELECT * FROM {database_name}.{table_name} t1 INNER JOIN \\\n",
    "                            {database_name}.{table_name2} t2 ON t1.seg_id \\\n",
    "                            = t2.seg_id LIMIT 5', conn)"
   ]
  },
  {
   "cell_type": "code",
   "execution_count": null,
   "id": "3f4ae78c-98d5-427a-bf9d-f940d841e4bc",
   "metadata": {},
   "outputs": [],
   "source": [
    "df = pd.read_sql(f'SELECT * FROM (SELECT * FROM {database_name}.{table_name} \\\n",
    "                           t1 INNER JOIN {database_name}.{table_name2} t2 \\\n",
    "                           ON t1.seg_id = t2.seg_id) m1 LEFT JOIN (SELECT street_name, \\\n",
    "                                                                   SUM(total_count) total_count \\\n",
    "                                                                   FROM {database_name}.{table_name3} \\\n",
    "                                                                   GROUP BY street_name) t3 \\\n",
    "                           ON m1.address_street = t3.street_name', conn)"
   ]
  },
  {
   "cell_type": "code",
   "execution_count": null,
   "id": "64b46775-31fa-4d97-8468-92d9ecf5fd31",
   "metadata": {},
   "outputs": [],
   "source": []
  }
 ],
 "metadata": {
  "kernelspec": {
   "display_name": "Python 3 (ipykernel)",
   "language": "python",
   "name": "python3"
  },
  "language_info": {
   "codemirror_mode": {
    "name": "ipython",
    "version": 3
   },
   "file_extension": ".py",
   "mimetype": "text/x-python",
   "name": "python",
   "nbconvert_exporter": "python",
   "pygments_lexer": "ipython3",
   "version": "3.11.11"
  }
 },
 "nbformat": 4,
 "nbformat_minor": 5
}
