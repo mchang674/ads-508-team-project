{
 "cells": [
  {
   "cell_type": "code",
   "execution_count": 2,
   "id": "5fc99a6d-c9c1-4bb2-8ca1-0d3d26ee6ab2",
   "metadata": {},
   "outputs": [
    {
     "name": "stdout",
     "output_type": "stream",
     "text": [
      "sagemaker.config INFO - Not applying SDK defaults from location: /etc/xdg/sagemaker/config.yaml\n",
      "sagemaker.config INFO - Not applying SDK defaults from location: /home/sagemaker-user/.config/sagemaker/config.yaml\n"
     ]
    }
   ],
   "source": [
    "import boto3, re, sys, math, json, os, sagemaker, urllib.request\n",
    "import io\n",
    "import sagemaker\n",
    "from sagemaker import get_execution_role\n",
    "from IPython.display import Image\n",
    "from IPython.display import display\n",
    "from time import gmtime, strftime\n",
    "from pyathena import connect\n",
    "import pandas as pd\n",
    "import numpy as np\n",
    "import matplotlib.pyplot as plt\n",
    "import seaborn as sns\n",
    "import warnings\n",
    "warnings.filterwarnings('ignore')"
   ]
  },
  {
   "cell_type": "code",
   "execution_count": 3,
   "id": "9e9dafe6-7e87-44b1-a0db-3f03fc995d2b",
   "metadata": {},
   "outputs": [],
   "source": [
    "sess = sagemaker.Session()\n",
    "bucket = sess.default_bucket()\n",
    "role = sagemaker.get_execution_role()\n",
    "region = boto3.Session().region_name"
   ]
  },
  {
   "cell_type": "code",
   "execution_count": 42,
   "id": "5d7f6039-9b8b-4b17-9459-b070dbe58257",
   "metadata": {},
   "outputs": [],
   "source": [
    "ingest_create_athena_db_passed = False"
   ]
  },
  {
   "cell_type": "code",
   "execution_count": 5,
   "id": "06be090e-d8b0-45c1-9123-721f8daf484a",
   "metadata": {},
   "outputs": [],
   "source": [
    "# set a database name\n",
    "database_name = \"inspection\""
   ]
  },
  {
   "cell_type": "code",
   "execution_count": 6,
   "id": "8cb82291-26d8-4d4a-b6d1-0a7520a0a6e3",
   "metadata": {},
   "outputs": [],
   "source": [
    "# Set S3 staging directory -- this is a temporary directory used for Athena queries\n",
    "s3_staging_dir = \"s3://{0}/athena/staging\".format(bucket)"
   ]
  },
  {
   "cell_type": "code",
   "execution_count": 7,
   "id": "e28990ac-6e8f-4d14-8d5f-eb786da6499b",
   "metadata": {},
   "outputs": [],
   "source": [
    "conn = connect(region_name=region, s3_staging_dir=s3_staging_dir)"
   ]
  },
  {
   "cell_type": "code",
   "execution_count": 46,
   "id": "e3f0a162-862e-4342-95c1-aa9e48a3e842",
   "metadata": {},
   "outputs": [
    {
     "name": "stdout",
     "output_type": "stream",
     "text": [
      "CREATE DATABASE IF NOT EXISTS inspection\n"
     ]
    },
    {
     "data": {
      "text/html": [
       "<div>\n",
       "<style scoped>\n",
       "    .dataframe tbody tr th:only-of-type {\n",
       "        vertical-align: middle;\n",
       "    }\n",
       "\n",
       "    .dataframe tbody tr th {\n",
       "        vertical-align: top;\n",
       "    }\n",
       "\n",
       "    .dataframe thead th {\n",
       "        text-align: right;\n",
       "    }\n",
       "</style>\n",
       "<table border=\"1\" class=\"dataframe\">\n",
       "  <thead>\n",
       "    <tr style=\"text-align: right;\">\n",
       "      <th></th>\n",
       "    </tr>\n",
       "  </thead>\n",
       "  <tbody>\n",
       "  </tbody>\n",
       "</table>\n",
       "</div>"
      ],
      "text/plain": [
       "Empty DataFrame\n",
       "Columns: []\n",
       "Index: []"
      ]
     },
     "execution_count": 46,
     "metadata": {},
     "output_type": "execute_result"
    }
   ],
   "source": [
    "statement = \"CREATE DATABASE IF NOT EXISTS {}\".format(database_name)\n",
    "print(statement)\n",
    "pd.read_sql(statement, conn)"
   ]
  },
  {
   "cell_type": "code",
   "execution_count": 8,
   "id": "8f6fd0f1-d093-49c7-80e1-40310469ae65",
   "metadata": {},
   "outputs": [
    {
     "data": {
      "text/html": [
       "<div>\n",
       "<style scoped>\n",
       "    .dataframe tbody tr th:only-of-type {\n",
       "        vertical-align: middle;\n",
       "    }\n",
       "\n",
       "    .dataframe tbody tr th {\n",
       "        vertical-align: top;\n",
       "    }\n",
       "\n",
       "    .dataframe thead th {\n",
       "        text-align: right;\n",
       "    }\n",
       "</style>\n",
       "<table border=\"1\" class=\"dataframe\">\n",
       "  <thead>\n",
       "    <tr style=\"text-align: right;\">\n",
       "      <th></th>\n",
       "      <th>database_name</th>\n",
       "    </tr>\n",
       "  </thead>\n",
       "  <tbody>\n",
       "    <tr>\n",
       "      <th>0</th>\n",
       "      <td>default</td>\n",
       "    </tr>\n",
       "    <tr>\n",
       "      <th>1</th>\n",
       "      <td>inspection</td>\n",
       "    </tr>\n",
       "  </tbody>\n",
       "</table>\n",
       "</div>"
      ],
      "text/plain": [
       "  database_name\n",
       "0       default\n",
       "1    inspection"
      ]
     },
     "execution_count": 8,
     "metadata": {},
     "output_type": "execute_result"
    }
   ],
   "source": [
    "statement = \"SHOW DATABASES\"\n",
    "\n",
    "df_show = pd.read_sql(statement, conn)\n",
    "df_show.head(5)"
   ]
  },
  {
   "cell_type": "code",
   "execution_count": 48,
   "id": "5c2b6c07-3b2e-4092-a339-a000a7b0d991",
   "metadata": {},
   "outputs": [],
   "source": [
    "if database_name in df_show.values:\n",
    "    ingest_create_athena_db_passed = True"
   ]
  },
  {
   "cell_type": "code",
   "execution_count": 49,
   "id": "855feabf-4cc7-4532-90de-5a9af6c7af3e",
   "metadata": {},
   "outputs": [
    {
     "name": "stdout",
     "output_type": "stream",
     "text": [
      "Stored 'ingest_create_athena_db_passed' (bool)\n"
     ]
    }
   ],
   "source": [
    "%store ingest_create_athena_db_passed"
   ]
  },
  {
   "cell_type": "code",
   "execution_count": 50,
   "id": "180125ff-2460-424a-978a-21490fde02ab",
   "metadata": {},
   "outputs": [
    {
     "name": "stdout",
     "output_type": "stream",
     "text": [
      "Stored variables and their in-db values:\n",
      "ingest_create_athena_db_passed             -> True\n",
      "s3_private_path_tsv                        -> 's3://sagemaker-us-east-1-373893336492/inspections\n",
      "s3_public_path_tsv                         -> 's3://inspections-pds'\n",
      "setup_dependencies_passed                  -> True\n",
      "setup_iam_roles_passed                     -> True\n",
      "setup_s3_bucket_passed                     -> True\n"
     ]
    }
   ],
   "source": [
    "%store"
   ]
  },
  {
   "cell_type": "code",
   "execution_count": 51,
   "id": "342930c8-2a63-4f0a-add4-6cea85d39d97",
   "metadata": {},
   "outputs": [],
   "source": [
    "ingest_create_athena_tsv_passed = False"
   ]
  },
  {
   "cell_type": "code",
   "execution_count": 52,
   "id": "7486fb7f-ae38-4a1f-83ff-86bdf9400c02",
   "metadata": {},
   "outputs": [],
   "source": [
    "try:\n",
    "    ingest_create_athena_db_passed\n",
    "except NameError:\n",
    "    print(\"ERROR YOU HAVE TO CREATE THE DATABASE\")"
   ]
  },
  {
   "cell_type": "code",
   "execution_count": 53,
   "id": "62e22bad-1bf2-469a-81aa-7d7fc9dafd4f",
   "metadata": {},
   "outputs": [
    {
     "name": "stdout",
     "output_type": "stream",
     "text": [
      "True\n"
     ]
    }
   ],
   "source": [
    "print(ingest_create_athena_db_passed)"
   ]
  },
  {
   "cell_type": "code",
   "execution_count": 17,
   "id": "f260aa89-3acb-49f4-ac3e-032936f2d761",
   "metadata": {},
   "outputs": [
    {
     "name": "stdout",
     "output_type": "stream",
     "text": [
      "s3://sagemaker-us-east-1-373893336492/\n"
     ]
    }
   ],
   "source": [
    "s3_private_path_tsv = \"s3://{}/\".format(bucket)\n",
    "\n",
    "print(s3_private_path_tsv)"
   ]
  },
  {
   "cell_type": "code",
   "execution_count": 82,
   "id": "84e56ed3-92a5-4d1d-8ad7-ee59c2c3b2e2",
   "metadata": {},
   "outputs": [],
   "source": [
    "statement1 = \"\"\"DROP TABLE IF EXISTS inspection.inspect\"\"\"\n",
    "statement2 = \"\"\"DROP TABLE IF EXISTS inspection.buildings\"\"\"\n",
    "statement3 = \"\"\"DROP TABLE IF EXISTS inspection.registered\"\"\"\n",
    "statement4 = \"\"\"DROP TABLE IF EXISTS inspection.district\"\"\""
   ]
  },
  {
   "cell_type": "code",
   "execution_count": 83,
   "id": "e8a0ac1f-1752-4fa8-8fc5-bb09bb0f98e8",
   "metadata": {},
   "outputs": [
    {
     "data": {
      "text/html": [
       "<div>\n",
       "<style scoped>\n",
       "    .dataframe tbody tr th:only-of-type {\n",
       "        vertical-align: middle;\n",
       "    }\n",
       "\n",
       "    .dataframe tbody tr th {\n",
       "        vertical-align: top;\n",
       "    }\n",
       "\n",
       "    .dataframe thead th {\n",
       "        text-align: right;\n",
       "    }\n",
       "</style>\n",
       "<table border=\"1\" class=\"dataframe\">\n",
       "  <thead>\n",
       "    <tr style=\"text-align: right;\">\n",
       "      <th></th>\n",
       "    </tr>\n",
       "  </thead>\n",
       "  <tbody>\n",
       "  </tbody>\n",
       "</table>\n",
       "</div>"
      ],
      "text/plain": [
       "Empty DataFrame\n",
       "Columns: []\n",
       "Index: []"
      ]
     },
     "execution_count": 83,
     "metadata": {},
     "output_type": "execute_result"
    }
   ],
   "source": [
    "pd.read_sql(statement1, conn)\n",
    "pd.read_sql(statement2, conn)\n",
    "pd.read_sql(statement3, conn)\n",
    "pd.read_sql(statement4, conn)"
   ]
  },
  {
   "cell_type": "code",
   "execution_count": 84,
   "id": "a3fe0a9b-a6ba-42d2-9895-1f8b7a0475e9",
   "metadata": {},
   "outputs": [
    {
     "name": "stdout",
     "output_type": "stream",
     "text": [
      "CREATE EXTERNAL TABLE IF NOT EXISTS inspection.inspect(\n",
      "                business_id string,\n",
      "                business_name string,\n",
      "                business_address string,\n",
      "                inspection_date date,\n",
      "                inspection_score int,\n",
      "                violation_description string,\n",
      "                risk_category string,\n",
      "                sup_dist string\n",
      "                )\n",
      "                ROW FORMAT DELIMITED\n",
      "                FIELDS TERMINATED BY '\\t'\n",
      "                LINES TERMINATED BY '\\n'\n",
      "                LOCATION 's3://sagemaker-us-east-1-373893336492/inspections-pds/inspections/'\n",
      "                TBLPROPERTIES ('skip.header.line.count'='1')\n"
     ]
    }
   ],
   "source": [
    "# SQL statement to execute\n",
    "inspect_path = \"s3://{}/inspections-pds/inspections/\".format(bucket)\n",
    "\n",
    "table_name = 'inspect'\n",
    "\n",
    "statement = \"\"\"CREATE EXTERNAL TABLE IF NOT EXISTS {}.{}(\n",
    "                business_id string,\n",
    "                business_name string,\n",
    "                business_address string,\n",
    "                inspection_date date,\n",
    "                inspection_score int,\n",
    "                violation_description string,\n",
    "                risk_category string,\n",
    "                sup_dist string\n",
    "                )\n",
    "                ROW FORMAT DELIMITED\n",
    "                FIELDS TERMINATED BY '\\\\t'\n",
    "                LINES TERMINATED BY '\\\\n'\n",
    "                LOCATION '{}'\n",
    "                TBLPROPERTIES ('skip.header.line.count'='1')\"\"\".format(\n",
    "                    database_name, table_name, inspect_path)\n",
    "\n",
    "print(statement)"
   ]
  },
  {
   "cell_type": "code",
   "execution_count": 85,
   "id": "1a857e99-69a1-4ab5-a225-694317cc99ff",
   "metadata": {},
   "outputs": [
    {
     "data": {
      "text/html": [
       "<div>\n",
       "<style scoped>\n",
       "    .dataframe tbody tr th:only-of-type {\n",
       "        vertical-align: middle;\n",
       "    }\n",
       "\n",
       "    .dataframe tbody tr th {\n",
       "        vertical-align: top;\n",
       "    }\n",
       "\n",
       "    .dataframe thead th {\n",
       "        text-align: right;\n",
       "    }\n",
       "</style>\n",
       "<table border=\"1\" class=\"dataframe\">\n",
       "  <thead>\n",
       "    <tr style=\"text-align: right;\">\n",
       "      <th></th>\n",
       "    </tr>\n",
       "  </thead>\n",
       "  <tbody>\n",
       "  </tbody>\n",
       "</table>\n",
       "</div>"
      ],
      "text/plain": [
       "Empty DataFrame\n",
       "Columns: []\n",
       "Index: []"
      ]
     },
     "execution_count": 85,
     "metadata": {},
     "output_type": "execute_result"
    }
   ],
   "source": [
    "pd.read_sql(statement, conn)"
   ]
  },
  {
   "cell_type": "code",
   "execution_count": 86,
   "id": "26b309ee-51ce-4d5f-8c61-1c99032b6b42",
   "metadata": {},
   "outputs": [
    {
     "name": "stdout",
     "output_type": "stream",
     "text": [
      "CREATE EXTERNAL TABLE IF NOT EXISTS inspection.district(\n",
      "                sup_name string,\n",
      "                sup_dist string\n",
      "                )\n",
      "                ROW FORMAT DELIMITED\n",
      "                FIELDS TERMINATED BY '\\t'\n",
      "                LINES TERMINATED BY '\\n'\n",
      "                LOCATION 's3://sagemaker-us-east-1-373893336492/inspections-pds/district/'\n",
      "                TBLPROPERTIES ('skip.header.line.count'='1')\n"
     ]
    }
   ],
   "source": [
    "# SQL statement to execute\n",
    "dist_path = \"s3://{}/inspections-pds/district/\".format(bucket)\n",
    "table_name = 'district'\n",
    "\n",
    "statement = \"\"\"CREATE EXTERNAL TABLE IF NOT EXISTS {}.{}(\n",
    "                sup_name string,\n",
    "                sup_dist string\n",
    "                )\n",
    "                ROW FORMAT DELIMITED\n",
    "                FIELDS TERMINATED BY '\\\\t'\n",
    "                LINES TERMINATED BY '\\\\n'\n",
    "                LOCATION '{}'\n",
    "                TBLPROPERTIES ('skip.header.line.count'='1')\"\"\".format(\n",
    "                    database_name, table_name, dist_path)\n",
    "\n",
    "print(statement)"
   ]
  },
  {
   "cell_type": "code",
   "execution_count": 87,
   "id": "1bf4ce1e-964d-4bc3-8aff-a2d8b785df56",
   "metadata": {},
   "outputs": [
    {
     "data": {
      "text/html": [
       "<div>\n",
       "<style scoped>\n",
       "    .dataframe tbody tr th:only-of-type {\n",
       "        vertical-align: middle;\n",
       "    }\n",
       "\n",
       "    .dataframe tbody tr th {\n",
       "        vertical-align: top;\n",
       "    }\n",
       "\n",
       "    .dataframe thead th {\n",
       "        text-align: right;\n",
       "    }\n",
       "</style>\n",
       "<table border=\"1\" class=\"dataframe\">\n",
       "  <thead>\n",
       "    <tr style=\"text-align: right;\">\n",
       "      <th></th>\n",
       "    </tr>\n",
       "  </thead>\n",
       "  <tbody>\n",
       "  </tbody>\n",
       "</table>\n",
       "</div>"
      ],
      "text/plain": [
       "Empty DataFrame\n",
       "Columns: []\n",
       "Index: []"
      ]
     },
     "execution_count": 87,
     "metadata": {},
     "output_type": "execute_result"
    }
   ],
   "source": [
    "pd.read_sql(statement, conn)"
   ]
  },
  {
   "cell_type": "code",
   "execution_count": 88,
   "id": "ed1885b3-0b9e-4393-8f50-86d279b07e3a",
   "metadata": {},
   "outputs": [
    {
     "name": "stdout",
     "output_type": "stream",
     "text": [
      "CREATE EXTERNAL TABLE IF NOT EXISTS inspection.buildings(\n",
      "                building_address string,\n",
      "                year_built string,\n",
      "                analysis_neighborhood string,\n",
      "                sup_district string\n",
      "                )\n",
      "                ROW FORMAT DELIMITED\n",
      "                FIELDS TERMINATED BY '\\t'\n",
      "                LOCATION 's3://sagemaker-us-east-1-373893336492/inspections-pds/build/'\n",
      "                TBLPROPERTIES ('skip.header.line.count'='1')\n"
     ]
    }
   ],
   "source": [
    "table_name = 'buildings'\n",
    "buildings_path = \"s3://{}/inspections-pds/build/\".format(bucket)\n",
    "\n",
    "statement = \"\"\"CREATE EXTERNAL TABLE IF NOT EXISTS {}.{}(\n",
    "                building_address string,\n",
    "                year_built string,\n",
    "                analysis_neighborhood string,\n",
    "                sup_district string\n",
    "                )\n",
    "                ROW FORMAT DELIMITED\n",
    "                FIELDS TERMINATED BY '\\\\t'\n",
    "                LOCATION '{}'\n",
    "                TBLPROPERTIES ('skip.header.line.count'='1')\"\"\".format(\n",
    "                    database_name, table_name, buildings_path)\n",
    "\n",
    "print(statement)"
   ]
  },
  {
   "cell_type": "code",
   "execution_count": 89,
   "id": "85d5bc6b-be57-4763-a0e4-f55cea6357b0",
   "metadata": {},
   "outputs": [
    {
     "data": {
      "text/html": [
       "<div>\n",
       "<style scoped>\n",
       "    .dataframe tbody tr th:only-of-type {\n",
       "        vertical-align: middle;\n",
       "    }\n",
       "\n",
       "    .dataframe tbody tr th {\n",
       "        vertical-align: top;\n",
       "    }\n",
       "\n",
       "    .dataframe thead th {\n",
       "        text-align: right;\n",
       "    }\n",
       "</style>\n",
       "<table border=\"1\" class=\"dataframe\">\n",
       "  <thead>\n",
       "    <tr style=\"text-align: right;\">\n",
       "      <th></th>\n",
       "    </tr>\n",
       "  </thead>\n",
       "  <tbody>\n",
       "  </tbody>\n",
       "</table>\n",
       "</div>"
      ],
      "text/plain": [
       "Empty DataFrame\n",
       "Columns: []\n",
       "Index: []"
      ]
     },
     "execution_count": 89,
     "metadata": {},
     "output_type": "execute_result"
    }
   ],
   "source": [
    "pd.read_sql(statement, conn)"
   ]
  },
  {
   "cell_type": "code",
   "execution_count": 90,
   "id": "93961eb5-c97a-4526-8259-075bcad86015",
   "metadata": {},
   "outputs": [],
   "source": [
    "table_name = 'registered'\n",
    "buildings_path = \"s3://{}/inspections-pds/businesses/\".format(bucket)\n",
    "\n",
    "statement = \"\"\"CREATE EXTERNAL TABLE IF NOT EXISTS {}.{}(\n",
    "                street_address string,\n",
    "                business_start_date date,\n",
    "                location_start_date date,\n",
    "                dba_name string\n",
    "                )\n",
    "                ROW FORMAT DELIMITED\n",
    "                FIELDS TERMINATED BY '\\\\t'\n",
    "                LOCATION '{}'\n",
    "                TBLPROPERTIES ('skip.header.line.count'='1')\"\"\".format(\n",
    "                    database_name, table_name, buildings_path)"
   ]
  },
  {
   "cell_type": "code",
   "execution_count": 91,
   "id": "3f8061aa-4e8f-4ca3-aee3-a41d954d1dc7",
   "metadata": {},
   "outputs": [
    {
     "data": {
      "text/html": [
       "<div>\n",
       "<style scoped>\n",
       "    .dataframe tbody tr th:only-of-type {\n",
       "        vertical-align: middle;\n",
       "    }\n",
       "\n",
       "    .dataframe tbody tr th {\n",
       "        vertical-align: top;\n",
       "    }\n",
       "\n",
       "    .dataframe thead th {\n",
       "        text-align: right;\n",
       "    }\n",
       "</style>\n",
       "<table border=\"1\" class=\"dataframe\">\n",
       "  <thead>\n",
       "    <tr style=\"text-align: right;\">\n",
       "      <th></th>\n",
       "    </tr>\n",
       "  </thead>\n",
       "  <tbody>\n",
       "  </tbody>\n",
       "</table>\n",
       "</div>"
      ],
      "text/plain": [
       "Empty DataFrame\n",
       "Columns: []\n",
       "Index: []"
      ]
     },
     "execution_count": 91,
     "metadata": {},
     "output_type": "execute_result"
    }
   ],
   "source": [
    "pd.read_sql(statement, conn)"
   ]
  },
  {
   "cell_type": "code",
   "execution_count": 92,
   "id": "fe78b821-bf75-4042-bd40-d7fa931074e5",
   "metadata": {},
   "outputs": [
    {
     "data": {
      "text/html": [
       "<div>\n",
       "<style scoped>\n",
       "    .dataframe tbody tr th:only-of-type {\n",
       "        vertical-align: middle;\n",
       "    }\n",
       "\n",
       "    .dataframe tbody tr th {\n",
       "        vertical-align: top;\n",
       "    }\n",
       "\n",
       "    .dataframe thead th {\n",
       "        text-align: right;\n",
       "    }\n",
       "</style>\n",
       "<table border=\"1\" class=\"dataframe\">\n",
       "  <thead>\n",
       "    <tr style=\"text-align: right;\">\n",
       "      <th></th>\n",
       "      <th>tab_name</th>\n",
       "    </tr>\n",
       "  </thead>\n",
       "  <tbody>\n",
       "    <tr>\n",
       "      <th>0</th>\n",
       "      <td>buildings</td>\n",
       "    </tr>\n",
       "    <tr>\n",
       "      <th>1</th>\n",
       "      <td>district</td>\n",
       "    </tr>\n",
       "    <tr>\n",
       "      <th>2</th>\n",
       "      <td>inspect</td>\n",
       "    </tr>\n",
       "    <tr>\n",
       "      <th>3</th>\n",
       "      <td>registered</td>\n",
       "    </tr>\n",
       "  </tbody>\n",
       "</table>\n",
       "</div>"
      ],
      "text/plain": [
       "     tab_name\n",
       "0   buildings\n",
       "1    district\n",
       "2     inspect\n",
       "3  registered"
      ]
     },
     "execution_count": 92,
     "metadata": {},
     "output_type": "execute_result"
    }
   ],
   "source": [
    "statement = \"show tables in {}\".format(database_name)\n",
    "pd.read_sql(statement, conn)"
   ]
  },
  {
   "cell_type": "code",
   "execution_count": 93,
   "id": "3f4ae78c-98d5-427a-bf9d-f940d841e4bc",
   "metadata": {},
   "outputs": [
    {
     "name": "stdout",
     "output_type": "stream",
     "text": [
      "select *\n",
      "from inspection.inspect\n",
      "LIMIT 5\n",
      "\n"
     ]
    }
   ],
   "source": [
    "table_name = 'inspect'\n",
    "database_name = 'inspection'\n",
    "statement = \"\"\"select *\n",
    "from {}.{}\n",
    "LIMIT 5\n",
    "\"\"\".format(database_name, table_name)\n",
    "\n",
    "print(statement)"
   ]
  },
  {
   "cell_type": "code",
   "execution_count": 94,
   "id": "65ffe88d-7d9e-4e51-8692-f9a063ee857a",
   "metadata": {},
   "outputs": [
    {
     "data": {
      "text/html": [
       "<div>\n",
       "<style scoped>\n",
       "    .dataframe tbody tr th:only-of-type {\n",
       "        vertical-align: middle;\n",
       "    }\n",
       "\n",
       "    .dataframe tbody tr th {\n",
       "        vertical-align: top;\n",
       "    }\n",
       "\n",
       "    .dataframe thead th {\n",
       "        text-align: right;\n",
       "    }\n",
       "</style>\n",
       "<table border=\"1\" class=\"dataframe\">\n",
       "  <thead>\n",
       "    <tr style=\"text-align: right;\">\n",
       "      <th></th>\n",
       "      <th>business_id</th>\n",
       "      <th>business_name</th>\n",
       "      <th>business_address</th>\n",
       "      <th>inspection_date</th>\n",
       "      <th>inspection_score</th>\n",
       "      <th>violation_description</th>\n",
       "      <th>risk_category</th>\n",
       "      <th>sup_dist</th>\n",
       "    </tr>\n",
       "  </thead>\n",
       "  <tbody>\n",
       "    <tr>\n",
       "      <th>0</th>\n",
       "      <td>33084</td>\n",
       "      <td>Miette Cakes, LLC</td>\n",
       "      <td>449 Octavia St</td>\n",
       "      <td>2019-01-02</td>\n",
       "      <td>90</td>\n",
       "      <td>Improper food labeling or menu misrepresentation</td>\n",
       "      <td>Low Risk</td>\n",
       "      <td>11</td>\n",
       "    </tr>\n",
       "    <tr>\n",
       "      <th>1</th>\n",
       "      <td>34181</td>\n",
       "      <td>Coffee Bar 1 LLC</td>\n",
       "      <td>1890 Bryant St #C</td>\n",
       "      <td>2019-01-02</td>\n",
       "      <td>86</td>\n",
       "      <td>Improper or defective plumbing</td>\n",
       "      <td>Low Risk</td>\n",
       "      <td>2</td>\n",
       "    </tr>\n",
       "    <tr>\n",
       "      <th>2</th>\n",
       "      <td>35805</td>\n",
       "      <td>Hard Knox Cafe</td>\n",
       "      <td>2448 Clement</td>\n",
       "      <td>2019-01-02</td>\n",
       "      <td>90</td>\n",
       "      <td>Wiping cloths not clean or properly stored or ...</td>\n",
       "      <td>Low Risk</td>\n",
       "      <td>4</td>\n",
       "    </tr>\n",
       "    <tr>\n",
       "      <th>3</th>\n",
       "      <td>876</td>\n",
       "      <td>PATPONG THAI CUISINE, INC.</td>\n",
       "      <td>2415 CLEMENT St</td>\n",
       "      <td>2019-01-02</td>\n",
       "      <td>74</td>\n",
       "      <td>High risk vermin infestation</td>\n",
       "      <td>High Risk</td>\n",
       "      <td>4</td>\n",
       "    </tr>\n",
       "    <tr>\n",
       "      <th>4</th>\n",
       "      <td>2233</td>\n",
       "      <td>The AA Bakery &amp; Cafe</td>\n",
       "      <td>1068 Stockton St</td>\n",
       "      <td>2019-01-02</td>\n",
       "      <td>90</td>\n",
       "      <td>Improper food storage</td>\n",
       "      <td>Low Risk</td>\n",
       "      <td>3</td>\n",
       "    </tr>\n",
       "  </tbody>\n",
       "</table>\n",
       "</div>"
      ],
      "text/plain": [
       "  business_id               business_name   business_address inspection_date  \\\n",
       "0       33084           Miette Cakes, LLC     449 Octavia St      2019-01-02   \n",
       "1       34181            Coffee Bar 1 LLC  1890 Bryant St #C      2019-01-02   \n",
       "2       35805              Hard Knox Cafe       2448 Clement      2019-01-02   \n",
       "3         876  PATPONG THAI CUISINE, INC.    2415 CLEMENT St      2019-01-02   \n",
       "4        2233        The AA Bakery & Cafe   1068 Stockton St      2019-01-02   \n",
       "\n",
       "   inspection_score                              violation_description  \\\n",
       "0                90   Improper food labeling or menu misrepresentation   \n",
       "1                86                     Improper or defective plumbing   \n",
       "2                90  Wiping cloths not clean or properly stored or ...   \n",
       "3                74                       High risk vermin infestation   \n",
       "4                90                              Improper food storage   \n",
       "\n",
       "  risk_category sup_dist  \n",
       "0      Low Risk       11  \n",
       "1      Low Risk        2  \n",
       "2      Low Risk        4  \n",
       "3     High Risk        4  \n",
       "4      Low Risk        3  "
      ]
     },
     "execution_count": 94,
     "metadata": {},
     "output_type": "execute_result"
    }
   ],
   "source": [
    "df = pd.read_sql(statement, conn)\n",
    "df"
   ]
  },
  {
   "cell_type": "code",
   "execution_count": 95,
   "id": "0c581597-41a2-42e8-870a-422f6fcf27d3",
   "metadata": {},
   "outputs": [
    {
     "name": "stdout",
     "output_type": "stream",
     "text": [
      "select *\n",
      "from inspection.district\n",
      "LIMIT 5\n",
      "\n"
     ]
    }
   ],
   "source": [
    "table_name = 'district'\n",
    "database_name = 'inspection'\n",
    "statement = \"\"\"select *\n",
    "from {}.{}\n",
    "LIMIT 5\n",
    "\"\"\".format(database_name, table_name)\n",
    "\n",
    "print(statement)"
   ]
  },
  {
   "cell_type": "code",
   "execution_count": 50,
   "id": "6806aed2-8f02-448a-a6c1-83742b5a0092",
   "metadata": {},
   "outputs": [
    {
     "data": {
      "text/html": [
       "<div>\n",
       "<style scoped>\n",
       "    .dataframe tbody tr th:only-of-type {\n",
       "        vertical-align: middle;\n",
       "    }\n",
       "\n",
       "    .dataframe tbody tr th {\n",
       "        vertical-align: top;\n",
       "    }\n",
       "\n",
       "    .dataframe thead th {\n",
       "        text-align: right;\n",
       "    }\n",
       "</style>\n",
       "<table border=\"1\" class=\"dataframe\">\n",
       "  <thead>\n",
       "    <tr style=\"text-align: right;\">\n",
       "      <th></th>\n",
       "      <th>sup_name</th>\n",
       "    </tr>\n",
       "  </thead>\n",
       "  <tbody>\n",
       "    <tr>\n",
       "      <th>0</th>\n",
       "      <td>Chyanne Chen</td>\n",
       "    </tr>\n",
       "    <tr>\n",
       "      <th>1</th>\n",
       "      <td>Shamann Walton</td>\n",
       "    </tr>\n",
       "    <tr>\n",
       "      <th>2</th>\n",
       "      <td>Jackie Fielder</td>\n",
       "    </tr>\n",
       "    <tr>\n",
       "      <th>3</th>\n",
       "      <td>Joel Engardio</td>\n",
       "    </tr>\n",
       "    <tr>\n",
       "      <th>4</th>\n",
       "      <td>Danny Sauter</td>\n",
       "    </tr>\n",
       "  </tbody>\n",
       "</table>\n",
       "</div>"
      ],
      "text/plain": [
       "         sup_name\n",
       "0    Chyanne Chen\n",
       "1  Shamann Walton\n",
       "2  Jackie Fielder\n",
       "3   Joel Engardio\n",
       "4    Danny Sauter"
      ]
     },
     "execution_count": 50,
     "metadata": {},
     "output_type": "execute_result"
    }
   ],
   "source": [
    "df = pd.read_sql(statement, conn)\n",
    "df"
   ]
  },
  {
   "cell_type": "code",
   "execution_count": null,
   "id": "94acb0b2-8215-4363-9196-c09bc9d0f42a",
   "metadata": {},
   "outputs": [],
   "source": []
  },
  {
   "cell_type": "code",
   "execution_count": 62,
   "id": "31178f65-fa17-4ecf-a5f5-06f45b677d97",
   "metadata": {},
   "outputs": [
    {
     "name": "stdout",
     "output_type": "stream",
     "text": [
      "select i.business_id\n",
      ", i.business_name\n",
      ", i.business_address\n",
      ", i.inspection_date\n",
      ", i.inspection_score\n",
      ", i.violation_description\n",
      ", i.risk_category\n",
      ", b.year_built\n",
      ", b.analysis_neighborhood\n",
      ", s.sup_dist\n",
      ", s.sup_name\n",
      ", r.location_start_date\n",
      ", r.business_start_date\n",
      "from inspection.inspect i\n",
      "left join inspection.buildings b\n",
      "on i.business_address = b.building_address\n",
      "left join inspection.registered r\n",
      "on i.business_address = r.street_address\n",
      "left join inspection.district s\n",
      "on i.sup_dist = s.sup_dist\n",
      "LIMIT 5\n"
     ]
    }
   ],
   "source": [
    "statement = \"\"\"select i.business_id\n",
    ", i.business_name\n",
    ", i.business_address\n",
    ", i.inspection_date\n",
    ", i.inspection_score\n",
    ", i.violation_description\n",
    ", i.risk_category\n",
    ", b.year_built\n",
    ", b.analysis_neighborhood\n",
    ", s.sup_dist\n",
    ", s.sup_name\n",
    ", r.location_start_date\n",
    ", r.business_start_date\n",
    "from inspection.inspect i\n",
    "left join inspection.buildings b\n",
    "on i.business_address = b.building_address\n",
    "left join inspection.registered r\n",
    "on i.business_address = r.street_address\n",
    "left join inspection.district s\n",
    "on i.sup_dist = s.sup_dist\n",
    "LIMIT 5\"\"\"\n",
    "\n",
    "print(statement)"
   ]
  },
  {
   "cell_type": "code",
   "execution_count": 63,
   "id": "b450d542-d159-47ec-8937-56aa3ca63a63",
   "metadata": {},
   "outputs": [
    {
     "data": {
      "text/html": [
       "<div>\n",
       "<style scoped>\n",
       "    .dataframe tbody tr th:only-of-type {\n",
       "        vertical-align: middle;\n",
       "    }\n",
       "\n",
       "    .dataframe tbody tr th {\n",
       "        vertical-align: top;\n",
       "    }\n",
       "\n",
       "    .dataframe thead th {\n",
       "        text-align: right;\n",
       "    }\n",
       "</style>\n",
       "<table border=\"1\" class=\"dataframe\">\n",
       "  <thead>\n",
       "    <tr style=\"text-align: right;\">\n",
       "      <th></th>\n",
       "      <th>business_id</th>\n",
       "      <th>business_name</th>\n",
       "      <th>business_address</th>\n",
       "      <th>inspection_date</th>\n",
       "      <th>inspection_score</th>\n",
       "      <th>violation_description</th>\n",
       "      <th>risk_category</th>\n",
       "      <th>year_built</th>\n",
       "      <th>analysis_neighborhood</th>\n",
       "      <th>sup_dist</th>\n",
       "      <th>sup_name</th>\n",
       "      <th>location_start_date</th>\n",
       "      <th>business_start_date</th>\n",
       "    </tr>\n",
       "  </thead>\n",
       "  <tbody>\n",
       "    <tr>\n",
       "      <th>0</th>\n",
       "      <td>33084</td>\n",
       "      <td>Miette Cakes, LLC</td>\n",
       "      <td>449 Octavia St</td>\n",
       "      <td>2019-01-02</td>\n",
       "      <td>90</td>\n",
       "      <td>Low Risk</td>\n",
       "      <td>11</td>\n",
       "      <td>None</td>\n",
       "      <td>None</td>\n",
       "      <td>None</td>\n",
       "      <td>None</td>\n",
       "      <td>None</td>\n",
       "      <td>None</td>\n",
       "    </tr>\n",
       "    <tr>\n",
       "      <th>1</th>\n",
       "      <td>34181</td>\n",
       "      <td>Coffee Bar 1 LLC</td>\n",
       "      <td>1890 Bryant St #C</td>\n",
       "      <td>2019-01-02</td>\n",
       "      <td>86</td>\n",
       "      <td>Low Risk</td>\n",
       "      <td>2</td>\n",
       "      <td>None</td>\n",
       "      <td>None</td>\n",
       "      <td>None</td>\n",
       "      <td>None</td>\n",
       "      <td>None</td>\n",
       "      <td>None</td>\n",
       "    </tr>\n",
       "    <tr>\n",
       "      <th>2</th>\n",
       "      <td>35805</td>\n",
       "      <td>Hard Knox Cafe</td>\n",
       "      <td>2448 Clement</td>\n",
       "      <td>2019-01-02</td>\n",
       "      <td>90</td>\n",
       "      <td>Low Risk</td>\n",
       "      <td>4</td>\n",
       "      <td>None</td>\n",
       "      <td>None</td>\n",
       "      <td>None</td>\n",
       "      <td>None</td>\n",
       "      <td>None</td>\n",
       "      <td>None</td>\n",
       "    </tr>\n",
       "    <tr>\n",
       "      <th>3</th>\n",
       "      <td>876</td>\n",
       "      <td>PATPONG THAI CUISINE, INC.</td>\n",
       "      <td>2415 CLEMENT St</td>\n",
       "      <td>2019-01-02</td>\n",
       "      <td>74</td>\n",
       "      <td>High Risk</td>\n",
       "      <td>4</td>\n",
       "      <td>None</td>\n",
       "      <td>None</td>\n",
       "      <td>None</td>\n",
       "      <td>None</td>\n",
       "      <td>None</td>\n",
       "      <td>None</td>\n",
       "    </tr>\n",
       "    <tr>\n",
       "      <th>4</th>\n",
       "      <td>2233</td>\n",
       "      <td>The AA Bakery &amp; Cafe</td>\n",
       "      <td>1068 Stockton St</td>\n",
       "      <td>2019-01-02</td>\n",
       "      <td>90</td>\n",
       "      <td>Low Risk</td>\n",
       "      <td>3</td>\n",
       "      <td>None</td>\n",
       "      <td>None</td>\n",
       "      <td>None</td>\n",
       "      <td>None</td>\n",
       "      <td>None</td>\n",
       "      <td>None</td>\n",
       "    </tr>\n",
       "  </tbody>\n",
       "</table>\n",
       "</div>"
      ],
      "text/plain": [
       "  business_id               business_name   business_address inspection_date  \\\n",
       "0       33084           Miette Cakes, LLC     449 Octavia St      2019-01-02   \n",
       "1       34181            Coffee Bar 1 LLC  1890 Bryant St #C      2019-01-02   \n",
       "2       35805              Hard Knox Cafe       2448 Clement      2019-01-02   \n",
       "3         876  PATPONG THAI CUISINE, INC.    2415 CLEMENT St      2019-01-02   \n",
       "4        2233        The AA Bakery & Cafe   1068 Stockton St      2019-01-02   \n",
       "\n",
       "   inspection_score violation_description risk_category year_built  \\\n",
       "0                90              Low Risk            11       None   \n",
       "1                86              Low Risk             2       None   \n",
       "2                90              Low Risk             4       None   \n",
       "3                74             High Risk             4       None   \n",
       "4                90              Low Risk             3       None   \n",
       "\n",
       "  analysis_neighborhood sup_dist sup_name location_start_date  \\\n",
       "0                  None     None     None                None   \n",
       "1                  None     None     None                None   \n",
       "2                  None     None     None                None   \n",
       "3                  None     None     None                None   \n",
       "4                  None     None     None                None   \n",
       "\n",
       "  business_start_date  \n",
       "0                None  \n",
       "1                None  \n",
       "2                None  \n",
       "3                None  \n",
       "4                None  "
      ]
     },
     "execution_count": 63,
     "metadata": {},
     "output_type": "execute_result"
    }
   ],
   "source": [
    "data = pd.read_sql(statement, conn)\n",
    "data"
   ]
  },
  {
   "cell_type": "code",
   "execution_count": 65,
   "id": "aa2a2efa-9de8-46c9-a0f7-7b0ec20de273",
   "metadata": {},
   "outputs": [
    {
     "name": "stdout",
     "output_type": "stream",
     "text": [
      "  business_id               business_name   business_address inspection_date  \\\n",
      "0       33084           Miette Cakes, LLC     449 Octavia St      2019-01-02   \n",
      "1       34181            Coffee Bar 1 LLC  1890 Bryant St #C      2019-01-02   \n",
      "2       35805              Hard Knox Cafe       2448 Clement      2019-01-02   \n",
      "3         876  PATPONG THAI CUISINE, INC.    2415 CLEMENT St      2019-01-02   \n",
      "4        2233        The AA Bakery & Cafe   1068 Stockton St      2019-01-02   \n",
      "\n",
      "   inspection_score violation_description risk_category year_built  \\\n",
      "0                90              Low Risk            11       None   \n",
      "1                86              Low Risk             2       None   \n",
      "2                90              Low Risk             4       None   \n",
      "3                74             High Risk             4       None   \n",
      "4                90              Low Risk             3       None   \n",
      "\n",
      "  analysis_neighborhood sup_dist sup_name location_start_date  \\\n",
      "0                  None     None     None                None   \n",
      "1                  None     None     None                None   \n",
      "2                  None     None     None                None   \n",
      "3                  None     None     None                None   \n",
      "4                  None     None     None                None   \n",
      "\n",
      "  business_start_date  \n",
      "0                None  \n",
      "1                None  \n",
      "2                None  \n",
      "3                None  \n",
      "4                None  \n"
     ]
    }
   ],
   "source": [
    "data2 = data.replace('None', 'na')\n",
    "print(data2)"
   ]
  },
  {
   "cell_type": "code",
   "execution_count": null,
   "id": "f0f15923-791d-47f0-b392-82d9fe254a87",
   "metadata": {},
   "outputs": [],
   "source": []
  }
 ],
 "metadata": {
  "kernelspec": {
   "display_name": "Python 3 (ipykernel)",
   "language": "python",
   "name": "python3"
  },
  "language_info": {
   "codemirror_mode": {
    "name": "ipython",
    "version": 3
   },
   "file_extension": ".py",
   "mimetype": "text/x-python",
   "name": "python",
   "nbconvert_exporter": "python",
   "pygments_lexer": "ipython3",
   "version": "3.11.11"
  }
 },
 "nbformat": 4,
 "nbformat_minor": 5
}
