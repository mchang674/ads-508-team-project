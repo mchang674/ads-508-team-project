{
 "cells": [
  {
   "cell_type": "code",
   "execution_count": 40,
   "id": "5fc99a6d-c9c1-4bb2-8ca1-0d3d26ee6ab2",
   "metadata": {},
   "outputs": [],
   "source": [
    "import boto3, re, sys, math, json, os, sagemaker, urllib.request\n",
    "import io\n",
    "import sagemaker\n",
    "from sagemaker import get_execution_role\n",
    "from IPython.display import Image\n",
    "from IPython.display import display\n",
    "from time import gmtime, strftime\n",
    "from pyathena import connect\n",
    "import pandas as pd\n",
    "import numpy as np\n",
    "import matplotlib.pyplot as plt\n",
    "import seaborn as sns\n",
    "import warnings\n",
    "warnings.filterwarnings('ignore')"
   ]
  },
  {
   "cell_type": "code",
   "execution_count": 41,
   "id": "9e9dafe6-7e87-44b1-a0db-3f03fc995d2b",
   "metadata": {},
   "outputs": [],
   "source": [
    "sess = sagemaker.Session()\n",
    "bucket = sess.default_bucket()\n",
    "role = sagemaker.get_execution_role()\n",
    "region = boto3.Session().region_name"
   ]
  },
  {
   "cell_type": "code",
   "execution_count": 42,
   "id": "5d7f6039-9b8b-4b17-9459-b070dbe58257",
   "metadata": {},
   "outputs": [],
   "source": [
    "ingest_create_athena_db_passed = False"
   ]
  },
  {
   "cell_type": "code",
   "execution_count": 43,
   "id": "06be090e-d8b0-45c1-9123-721f8daf484a",
   "metadata": {},
   "outputs": [],
   "source": [
    "# set a database name\n",
    "database_name = \"inspection\""
   ]
  },
  {
   "cell_type": "code",
   "execution_count": 44,
   "id": "8cb82291-26d8-4d4a-b6d1-0a7520a0a6e3",
   "metadata": {},
   "outputs": [],
   "source": [
    "# Set S3 staging directory -- this is a temporary directory used for Athena queries\n",
    "s3_staging_dir = \"s3://{0}/athena/staging\".format(bucket)"
   ]
  },
  {
   "cell_type": "code",
   "execution_count": 45,
   "id": "e28990ac-6e8f-4d14-8d5f-eb786da6499b",
   "metadata": {},
   "outputs": [],
   "source": [
    "conn = connect(region_name=region, s3_staging_dir=s3_staging_dir)"
   ]
  },
  {
   "cell_type": "code",
   "execution_count": 46,
   "id": "e3f0a162-862e-4342-95c1-aa9e48a3e842",
   "metadata": {},
   "outputs": [
    {
     "name": "stdout",
     "output_type": "stream",
     "text": [
      "CREATE DATABASE IF NOT EXISTS inspection\n"
     ]
    },
    {
     "data": {
      "text/html": [
       "<div>\n",
       "<style scoped>\n",
       "    .dataframe tbody tr th:only-of-type {\n",
       "        vertical-align: middle;\n",
       "    }\n",
       "\n",
       "    .dataframe tbody tr th {\n",
       "        vertical-align: top;\n",
       "    }\n",
       "\n",
       "    .dataframe thead th {\n",
       "        text-align: right;\n",
       "    }\n",
       "</style>\n",
       "<table border=\"1\" class=\"dataframe\">\n",
       "  <thead>\n",
       "    <tr style=\"text-align: right;\">\n",
       "      <th></th>\n",
       "    </tr>\n",
       "  </thead>\n",
       "  <tbody>\n",
       "  </tbody>\n",
       "</table>\n",
       "</div>"
      ],
      "text/plain": [
       "Empty DataFrame\n",
       "Columns: []\n",
       "Index: []"
      ]
     },
     "execution_count": 46,
     "metadata": {},
     "output_type": "execute_result"
    }
   ],
   "source": [
    "statement = \"CREATE DATABASE IF NOT EXISTS {}\".format(database_name)\n",
    "print(statement)\n",
    "pd.read_sql(statement, conn)"
   ]
  },
  {
   "cell_type": "code",
   "execution_count": 47,
   "id": "8f6fd0f1-d093-49c7-80e1-40310469ae65",
   "metadata": {},
   "outputs": [
    {
     "data": {
      "text/html": [
       "<div>\n",
       "<style scoped>\n",
       "    .dataframe tbody tr th:only-of-type {\n",
       "        vertical-align: middle;\n",
       "    }\n",
       "\n",
       "    .dataframe tbody tr th {\n",
       "        vertical-align: top;\n",
       "    }\n",
       "\n",
       "    .dataframe thead th {\n",
       "        text-align: right;\n",
       "    }\n",
       "</style>\n",
       "<table border=\"1\" class=\"dataframe\">\n",
       "  <thead>\n",
       "    <tr style=\"text-align: right;\">\n",
       "      <th></th>\n",
       "      <th>database_name</th>\n",
       "    </tr>\n",
       "  </thead>\n",
       "  <tbody>\n",
       "    <tr>\n",
       "      <th>0</th>\n",
       "      <td>default</td>\n",
       "    </tr>\n",
       "    <tr>\n",
       "      <th>1</th>\n",
       "      <td>inspection</td>\n",
       "    </tr>\n",
       "  </tbody>\n",
       "</table>\n",
       "</div>"
      ],
      "text/plain": [
       "  database_name\n",
       "0       default\n",
       "1    inspection"
      ]
     },
     "execution_count": 47,
     "metadata": {},
     "output_type": "execute_result"
    }
   ],
   "source": [
    "statement = \"SHOW DATABASES\"\n",
    "\n",
    "df_show = pd.read_sql(statement, conn)\n",
    "df_show.head(5)"
   ]
  },
  {
   "cell_type": "code",
   "execution_count": 48,
   "id": "5c2b6c07-3b2e-4092-a339-a000a7b0d991",
   "metadata": {},
   "outputs": [],
   "source": [
    "if database_name in df_show.values:\n",
    "    ingest_create_athena_db_passed = True"
   ]
  },
  {
   "cell_type": "code",
   "execution_count": 49,
   "id": "855feabf-4cc7-4532-90de-5a9af6c7af3e",
   "metadata": {},
   "outputs": [
    {
     "name": "stdout",
     "output_type": "stream",
     "text": [
      "Stored 'ingest_create_athena_db_passed' (bool)\n"
     ]
    }
   ],
   "source": [
    "%store ingest_create_athena_db_passed"
   ]
  },
  {
   "cell_type": "code",
   "execution_count": 50,
   "id": "180125ff-2460-424a-978a-21490fde02ab",
   "metadata": {},
   "outputs": [
    {
     "name": "stdout",
     "output_type": "stream",
     "text": [
      "Stored variables and their in-db values:\n",
      "ingest_create_athena_db_passed             -> True\n",
      "s3_private_path_tsv                        -> 's3://sagemaker-us-east-1-373893336492/inspections\n",
      "s3_public_path_tsv                         -> 's3://inspections-pds'\n",
      "setup_dependencies_passed                  -> True\n",
      "setup_iam_roles_passed                     -> True\n",
      "setup_s3_bucket_passed                     -> True\n"
     ]
    }
   ],
   "source": [
    "%store"
   ]
  },
  {
   "cell_type": "code",
   "execution_count": 51,
   "id": "342930c8-2a63-4f0a-add4-6cea85d39d97",
   "metadata": {},
   "outputs": [],
   "source": [
    "ingest_create_athena_tsv_passed = False"
   ]
  },
  {
   "cell_type": "code",
   "execution_count": 52,
   "id": "7486fb7f-ae38-4a1f-83ff-86bdf9400c02",
   "metadata": {},
   "outputs": [],
   "source": [
    "try:\n",
    "    ingest_create_athena_db_passed\n",
    "except NameError:\n",
    "    print(\"ERROR YOU HAVE TO CREATE THE DATABASE\")"
   ]
  },
  {
   "cell_type": "code",
   "execution_count": 53,
   "id": "62e22bad-1bf2-469a-81aa-7d7fc9dafd4f",
   "metadata": {},
   "outputs": [
    {
     "name": "stdout",
     "output_type": "stream",
     "text": [
      "True\n"
     ]
    }
   ],
   "source": [
    "print(ingest_create_athena_db_passed)"
   ]
  },
  {
   "cell_type": "code",
   "execution_count": 54,
   "id": "279a2ca4-4a52-4f75-a185-a5b9d3ace742",
   "metadata": {},
   "outputs": [
    {
     "name": "stdout",
     "output_type": "stream",
     "text": [
      "True\n"
     ]
    }
   ],
   "source": [
    "print(ingest_create_athena_db_passed)"
   ]
  },
  {
   "cell_type": "code",
   "execution_count": 64,
   "id": "f260aa89-3acb-49f4-ac3e-032936f2d761",
   "metadata": {},
   "outputs": [
    {
     "name": "stdout",
     "output_type": "stream",
     "text": [
      "s3://sagemaker-us-east-1-373893336492/\n"
     ]
    }
   ],
   "source": [
    "s3_private_path_tsv = \"s3://{}/\".format(bucket)\n",
    "\n",
    "print(s3_private_path_tsv)"
   ]
  },
  {
   "cell_type": "code",
   "execution_count": 74,
   "id": "a3fe0a9b-a6ba-42d2-9895-1f8b7a0475e9",
   "metadata": {},
   "outputs": [
    {
     "name": "stdout",
     "output_type": "stream",
     "text": [
      "CREATE EXTERNAL TABLE IF NOT EXISTS inspection.inspect(\n",
      "                business_id string,\n",
      "                business_name string,\n",
      "                business_address string,\n",
      "                inspection_date date,\n",
      "                inspection_score int,\n",
      "                inspection_type string,\n",
      "                violation_description string,\n",
      "                risk_category string,\n",
      "                sup_dist string\n",
      "                )\n",
      "                ROW FORMAT DELIMITED\n",
      "                FIELDS TERMINATED BY '\\t'\n",
      "                LOCATION 's3://sagemaker-us-east-1-373893336492/inspections-pds/inspections/'\n",
      "                TBLPROPERTIES ('skip.header.line.count'='1')\n"
     ]
    }
   ],
   "source": [
    "# SQL statement to execute\n",
    "inspect_path = \"s3://{}/inspections-pds/inspections/\".format(bucket)\n",
    "\n",
    "table_name = 'inspect'\n",
    "\n",
    "statement = \"\"\"CREATE EXTERNAL TABLE IF NOT EXISTS {}.{}(\n",
    "                business_id string,\n",
    "                business_name string,\n",
    "                business_address string,\n",
    "                inspection_date date,\n",
    "                inspection_score int,\n",
    "                inspection_type string,\n",
    "                violation_description string,\n",
    "                risk_category string,\n",
    "                sup_dist string\n",
    "                )\n",
    "                ROW FORMAT DELIMITED\n",
    "                FIELDS TERMINATED BY '\\\\t'\n",
    "                LOCATION '{}'\n",
    "                TBLPROPERTIES ('skip.header.line.count'='1')\"\"\".format(\n",
    "                    database_name, table_name, inspect_path)\n",
    "\n",
    "print(statement)"
   ]
  },
  {
   "cell_type": "code",
   "execution_count": 75,
   "id": "1a857e99-69a1-4ab5-a225-694317cc99ff",
   "metadata": {},
   "outputs": [
    {
     "data": {
      "text/html": [
       "<div>\n",
       "<style scoped>\n",
       "    .dataframe tbody tr th:only-of-type {\n",
       "        vertical-align: middle;\n",
       "    }\n",
       "\n",
       "    .dataframe tbody tr th {\n",
       "        vertical-align: top;\n",
       "    }\n",
       "\n",
       "    .dataframe thead th {\n",
       "        text-align: right;\n",
       "    }\n",
       "</style>\n",
       "<table border=\"1\" class=\"dataframe\">\n",
       "  <thead>\n",
       "    <tr style=\"text-align: right;\">\n",
       "      <th></th>\n",
       "    </tr>\n",
       "  </thead>\n",
       "  <tbody>\n",
       "  </tbody>\n",
       "</table>\n",
       "</div>"
      ],
      "text/plain": [
       "Empty DataFrame\n",
       "Columns: []\n",
       "Index: []"
      ]
     },
     "execution_count": 75,
     "metadata": {},
     "output_type": "execute_result"
    }
   ],
   "source": [
    "pd.read_sql(statement, conn)"
   ]
  },
  {
   "cell_type": "code",
   "execution_count": 76,
   "id": "26b309ee-51ce-4d5f-8c61-1c99032b6b42",
   "metadata": {},
   "outputs": [
    {
     "name": "stdout",
     "output_type": "stream",
     "text": [
      "CREATE EXTERNAL TABLE IF NOT EXISTS inspection.dist(\n",
      "                sup_name string,\n",
      "                sup_dist string\n",
      "                )\n",
      "                ROW FORMAT DELIMITED\n",
      "                FIELDS TERMINATED BY '\\t'\n",
      "                LINES TERMINATED BY '\\n'\n",
      "                LOCATION 's3://sagemaker-us-east-1-373893336492/inspections-pds/district/'\n",
      "                TBLPROPERTIES ('skip.header.line.count'='1')\n"
     ]
    }
   ],
   "source": [
    "# SQL statement to execute\n",
    "dist_path = \"s3://{}/inspections-pds/district/\".format(bucket)\n",
    "table_name = 'dist'\n",
    "\n",
    "statement = \"\"\"CREATE EXTERNAL TABLE IF NOT EXISTS {}.{}(\n",
    "                sup_name string,\n",
    "                sup_dist string\n",
    "                )\n",
    "                ROW FORMAT DELIMITED\n",
    "                FIELDS TERMINATED BY '\\\\t'\n",
    "                LINES TERMINATED BY '\\\\n'\n",
    "                LOCATION '{}'\n",
    "                TBLPROPERTIES ('skip.header.line.count'='1')\"\"\".format(\n",
    "                    database_name, table_name, dist_path)\n",
    "\n",
    "print(statement)"
   ]
  },
  {
   "cell_type": "code",
   "execution_count": 77,
   "id": "1bf4ce1e-964d-4bc3-8aff-a2d8b785df56",
   "metadata": {},
   "outputs": [
    {
     "data": {
      "text/html": [
       "<div>\n",
       "<style scoped>\n",
       "    .dataframe tbody tr th:only-of-type {\n",
       "        vertical-align: middle;\n",
       "    }\n",
       "\n",
       "    .dataframe tbody tr th {\n",
       "        vertical-align: top;\n",
       "    }\n",
       "\n",
       "    .dataframe thead th {\n",
       "        text-align: right;\n",
       "    }\n",
       "</style>\n",
       "<table border=\"1\" class=\"dataframe\">\n",
       "  <thead>\n",
       "    <tr style=\"text-align: right;\">\n",
       "      <th></th>\n",
       "    </tr>\n",
       "  </thead>\n",
       "  <tbody>\n",
       "  </tbody>\n",
       "</table>\n",
       "</div>"
      ],
      "text/plain": [
       "Empty DataFrame\n",
       "Columns: []\n",
       "Index: []"
      ]
     },
     "execution_count": 77,
     "metadata": {},
     "output_type": "execute_result"
    }
   ],
   "source": [
    "pd.read_sql(statement, conn)"
   ]
  },
  {
   "cell_type": "code",
   "execution_count": 91,
   "id": "ed1885b3-0b9e-4393-8f50-86d279b07e3a",
   "metadata": {},
   "outputs": [],
   "source": [
    "table_name = 'buildings'\n",
    "buildings_path = \"s3://{}/inspections-pds/build/\".format(bucket)\n",
    "\n",
    "statement = \"\"\"CREATE EXTERNAL TABLE IF NOT EXISTS {}.{}(\n",
    "                business_id string,\n",
    "                business_name string,\n",
    "                business_address string,\n",
    "                inspection_date date,\n",
    "                inspection_score int,\n",
    "                inspection_type string,\n",
    "                violation_description string,\n",
    "                risk_category string,\n",
    "                sup_dist string\n",
    "                )\n",
    "                ROW FORMAT DELIMITED\n",
    "                FIELDS TERMINATED BY '\\\\t'\n",
    "                LOCATION '{}'\n",
    "                TBLPROPERTIES ('skip.header.line.count'='1')\"\"\".format(\n",
    "                    database_name, table_name, buildings_path)"
   ]
  },
  {
   "cell_type": "code",
   "execution_count": 91,
   "id": "85d5bc6b-be57-4763-a0e4-f55cea6357b0",
   "metadata": {},
   "outputs": [],
   "source": [
    "pd.read_sql(statement, conn)"
   ]
  },
  {
   "cell_type": "code",
   "execution_count": 96,
   "id": "93961eb5-c97a-4526-8259-075bcad86015",
   "metadata": {},
   "outputs": [],
   "source": [
    "table_name = 'registered'\n",
    "buildings_path = \"s3://{}/inspections-pds/businesses/\".format(bucket)\n",
    "\n",
    "statement = \"\"\"CREATE EXTERNAL TABLE IF NOT EXISTS {}.{}(\n",
    "                street_address string,\n",
    "                business_start_date date,\n",
    "                location_start_date date,\n",
    "                dba_name string\n",
    "                )\n",
    "                ROW FORMAT DELIMITED\n",
    "                FIELDS TERMINATED BY '\\\\t'\n",
    "                LOCATION '{}'\n",
    "                TBLPROPERTIES ('skip.header.line.count'='1')\"\"\".format(\n",
    "                    database_name, table_name, buildings_path)"
   ]
  },
  {
   "cell_type": "code",
   "execution_count": 97,
   "id": "3f8061aa-4e8f-4ca3-aee3-a41d954d1dc7",
   "metadata": {},
   "outputs": [
    {
     "data": {
      "text/html": [
       "<div>\n",
       "<style scoped>\n",
       "    .dataframe tbody tr th:only-of-type {\n",
       "        vertical-align: middle;\n",
       "    }\n",
       "\n",
       "    .dataframe tbody tr th {\n",
       "        vertical-align: top;\n",
       "    }\n",
       "\n",
       "    .dataframe thead th {\n",
       "        text-align: right;\n",
       "    }\n",
       "</style>\n",
       "<table border=\"1\" class=\"dataframe\">\n",
       "  <thead>\n",
       "    <tr style=\"text-align: right;\">\n",
       "      <th></th>\n",
       "    </tr>\n",
       "  </thead>\n",
       "  <tbody>\n",
       "  </tbody>\n",
       "</table>\n",
       "</div>"
      ],
      "text/plain": [
       "Empty DataFrame\n",
       "Columns: []\n",
       "Index: []"
      ]
     },
     "execution_count": 97,
     "metadata": {},
     "output_type": "execute_result"
    }
   ],
   "source": [
    "pd.read_sql(statement, conn)"
   ]
  },
  {
   "cell_type": "code",
   "execution_count": 98,
   "id": "fe78b821-bf75-4042-bd40-d7fa931074e5",
   "metadata": {},
   "outputs": [
    {
     "data": {
      "text/html": [
       "<div>\n",
       "<style scoped>\n",
       "    .dataframe tbody tr th:only-of-type {\n",
       "        vertical-align: middle;\n",
       "    }\n",
       "\n",
       "    .dataframe tbody tr th {\n",
       "        vertical-align: top;\n",
       "    }\n",
       "\n",
       "    .dataframe thead th {\n",
       "        text-align: right;\n",
       "    }\n",
       "</style>\n",
       "<table border=\"1\" class=\"dataframe\">\n",
       "  <thead>\n",
       "    <tr style=\"text-align: right;\">\n",
       "      <th></th>\n",
       "      <th>tab_name</th>\n",
       "    </tr>\n",
       "  </thead>\n",
       "  <tbody>\n",
       "    <tr>\n",
       "      <th>0</th>\n",
       "      <td>buildings_2</td>\n",
       "    </tr>\n",
       "    <tr>\n",
       "      <th>1</th>\n",
       "      <td>dist</td>\n",
       "    </tr>\n",
       "    <tr>\n",
       "      <th>2</th>\n",
       "      <td>inspect</td>\n",
       "    </tr>\n",
       "    <tr>\n",
       "      <th>3</th>\n",
       "      <td>registered</td>\n",
       "    </tr>\n",
       "  </tbody>\n",
       "</table>\n",
       "</div>"
      ],
      "text/plain": [
       "      tab_name\n",
       "0  buildings_2\n",
       "1         dist\n",
       "2      inspect\n",
       "3   registered"
      ]
     },
     "execution_count": 98,
     "metadata": {},
     "output_type": "execute_result"
    }
   ],
   "source": [
    "statement = \"show tables in {}\".format(database_name)\n",
    "pd.read_sql(statement, conn)"
   ]
  },
  {
   "cell_type": "code",
   "execution_count": null,
   "id": "7b9a06c7-e0ef-416e-ac0d-dfa7c2fea28f",
   "metadata": {},
   "outputs": [],
   "source": [
    "pd.read_sql(f'SELECT * FROM {database_name}.{table_name} t1 INNER JOIN \\\n",
    "                            {database_name}.{table_name2} t2 ON t1.seg_id \\\n",
    "                            = t2.seg_id LIMIT 5', conn)"
   ]
  },
  {
   "cell_type": "code",
   "execution_count": null,
   "id": "3f4ae78c-98d5-427a-bf9d-f940d841e4bc",
   "metadata": {},
   "outputs": [],
   "source": [
    "df = pd.read_sql(f'SELECT * FROM (SELECT * FROM {database_name}.{table_name} \\\n",
    "                           t1 INNER JOIN {database_name}.{table_name2} t2 \\\n",
    "                           ON t1.seg_id = t2.seg_id) m1 LEFT JOIN (SELECT street_name, \\\n",
    "                                                                   SUM(total_count) total_count \\\n",
    "                                                                   FROM {database_name}.{table_name3} \\\n",
    "                                                                   GROUP BY street_name) t3 \\\n",
    "                           ON m1.address_street = t3.street_name', conn)"
   ]
  },
  {
   "cell_type": "code",
   "execution_count": 71,
   "id": "fd823445-d1f2-4cfe-b211-42a9f0b4dfc0",
   "metadata": {},
   "outputs": [
    {
     "name": "stdout",
     "output_type": "stream",
     "text": [
      "\n",
      "usage: aws s3 cp <LocalPath> <S3Uri> or <S3Uri> <LocalPath> or <S3Uri> <S3Uri>\n",
      "Error: Invalid argument type\n"
     ]
    }
   ],
   "source": [
    "!aws s3 cp --recursive $s3_public_path_tsv/ $s3_private_path_tsv/buildings/ --exclude \"*\" --include \"buildings.tsv\""
   ]
  },
  {
   "cell_type": "code",
   "execution_count": 92,
   "id": "fea327e0-778e-4298-a5ab-2f52efb68d23",
   "metadata": {},
   "outputs": [
    {
     "data": {
      "text/html": [
       "<div>\n",
       "<style scoped>\n",
       "    .dataframe tbody tr th:only-of-type {\n",
       "        vertical-align: middle;\n",
       "    }\n",
       "\n",
       "    .dataframe tbody tr th {\n",
       "        vertical-align: top;\n",
       "    }\n",
       "\n",
       "    .dataframe thead th {\n",
       "        text-align: right;\n",
       "    }\n",
       "</style>\n",
       "<table border=\"1\" class=\"dataframe\">\n",
       "  <thead>\n",
       "    <tr style=\"text-align: right;\">\n",
       "      <th></th>\n",
       "    </tr>\n",
       "  </thead>\n",
       "  <tbody>\n",
       "  </tbody>\n",
       "</table>\n",
       "</div>"
      ],
      "text/plain": [
       "Empty DataFrame\n",
       "Columns: []\n",
       "Index: []"
      ]
     },
     "execution_count": 92,
     "metadata": {},
     "output_type": "execute_result"
    }
   ],
   "source": [
    "df = pd.read_sql(statement, conn)\n"
   ]
  },
  {
   "cell_type": "code",
   "execution_count": 95,
   "id": "bd30365c-64f2-4d8c-aa29-4152381a8ca8",
   "metadata": {},
   "outputs": [
    {
     "data": {
      "text/html": [
       "<div>\n",
       "<style scoped>\n",
       "    .dataframe tbody tr th:only-of-type {\n",
       "        vertical-align: middle;\n",
       "    }\n",
       "\n",
       "    .dataframe tbody tr th {\n",
       "        vertical-align: top;\n",
       "    }\n",
       "\n",
       "    .dataframe thead th {\n",
       "        text-align: right;\n",
       "    }\n",
       "</style>\n",
       "<table border=\"1\" class=\"dataframe\">\n",
       "  <thead>\n",
       "    <tr style=\"text-align: right;\">\n",
       "      <th></th>\n",
       "      <th>tab_name</th>\n",
       "    </tr>\n",
       "  </thead>\n",
       "  <tbody>\n",
       "    <tr>\n",
       "      <th>0</th>\n",
       "      <td>buildings_2</td>\n",
       "    </tr>\n",
       "    <tr>\n",
       "      <th>1</th>\n",
       "      <td>dist</td>\n",
       "    </tr>\n",
       "    <tr>\n",
       "      <th>2</th>\n",
       "      <td>inspect</td>\n",
       "    </tr>\n",
       "  </tbody>\n",
       "</table>\n",
       "</div>"
      ],
      "text/plain": [
       "      tab_name\n",
       "0  buildings_2\n",
       "1         dist\n",
       "2      inspect"
      ]
     },
     "execution_count": 95,
     "metadata": {},
     "output_type": "execute_result"
    }
   ],
   "source": [
    "statement = \"show tables in {}\".format(database_name)\n",
    "df = pd.read_sql(statement, conn)\n",
    "df.head(5)"
   ]
  },
  {
   "cell_type": "code",
   "execution_count": 93,
   "id": "557a9da0-e0ab-474e-8d02-d21e1d4866eb",
   "metadata": {},
   "outputs": [
    {
     "name": "stdout",
     "output_type": "stream",
     "text": [
      "s3://sagemaker-us-east-1-373893336492/inspections-pds/build/\n"
     ]
    }
   ],
   "source": [
    "print(buildings_path)"
   ]
  },
  {
   "cell_type": "code",
   "execution_count": 90,
   "id": "26ae5284-9339-4318-bd64-bf175502165d",
   "metadata": {},
   "outputs": [],
   "source": [
    "!aws s3 ls --recursive $buildings_path"
   ]
  },
  {
   "cell_type": "code",
   "execution_count": null,
   "id": "badf2b0e-9548-41c2-8099-3cd2ecdfe163",
   "metadata": {},
   "outputs": [],
   "source": []
  }
 ],
 "metadata": {
  "kernelspec": {
   "display_name": "Python 3 (ipykernel)",
   "language": "python",
   "name": "python3"
  },
  "language_info": {
   "codemirror_mode": {
    "name": "ipython",
    "version": 3
   },
   "file_extension": ".py",
   "mimetype": "text/x-python",
   "name": "python",
   "nbconvert_exporter": "python",
   "pygments_lexer": "ipython3",
   "version": "3.11.11"
  }
 },
 "nbformat": 4,
 "nbformat_minor": 5
}
