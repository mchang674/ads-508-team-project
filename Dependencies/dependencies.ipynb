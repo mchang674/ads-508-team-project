{
 "cells": [
  {
   "cell_type": "code",
   "execution_count": null,
   "id": "a405a309-84a8-4b62-8086-a194c47639af",
   "metadata": {},
   "outputs": [],
   "source": [
    "!python --version"
   ]
  },
  {
   "cell_type": "code",
   "execution_count": null,
   "id": "62a1afaa-0430-461e-be4c-59978da9dd11",
   "metadata": {},
   "outputs": [],
   "source": [
    "!pip list"
   ]
  },
  {
   "cell_type": "code",
   "execution_count": null,
   "id": "09c5169f-9e3b-4874-a094-b9ad19de1d48",
   "metadata": {},
   "outputs": [],
   "source": [
    "!pip install --disable-pip-version-check -q pip --upgrade > /dev/null\n",
    "!pip install --disable-pip-version-check -q wrapt --upgrade > /dev/null"
   ]
  },
  {
   "cell_type": "code",
   "execution_count": null,
   "id": "1df9bab7-aade-4cf9-99a5-133ae545399e",
   "metadata": {},
   "outputs": [],
   "source": [
    "!pip install --disable-pip-version-check -q awscli==1.18.216 boto3==1.16.56 botocore==1.19.56"
   ]
  },
  {
   "cell_type": "code",
   "execution_count": null,
   "id": "3e565e82-bd5e-4205-a532-c55a4e7f07af",
   "metadata": {},
   "outputs": [],
   "source": [
    "!pip install --disable-pip-version-check -q sagemaker==2.29.0\n",
    "!pip install --disable-pip-version-check -q smdebug==1.0.1\n",
    "!pip install --disable-pip-version-check -q sagemaker-experiments==0.1.26"
   ]
  },
  {
   "cell_type": "code",
   "execution_count": null,
   "id": "05f23502-153b-4815-8909-e7c05eed9b2d",
   "metadata": {},
   "outputs": [],
   "source": [
    "\n",
    "!conda install -y pytorch==1.6.0 -c pytorch"
   ]
  },
  {
   "cell_type": "code",
   "execution_count": null,
   "id": "55f8592e-ef5d-4d85-827c-84cf5127ca6f",
   "metadata": {},
   "outputs": [],
   "source": [
    "!pip install imblearn"
   ]
  },
  {
   "cell_type": "code",
   "execution_count": null,
   "id": "46db1dd7-8956-410f-9941-9280371f7456",
   "metadata": {},
   "outputs": [],
   "source": [
    "!pip install time"
   ]
  },
  {
   "cell_type": "code",
   "execution_count": null,
   "id": "46392ddb-ab11-401c-a2e6-a6eb95c8b039",
   "metadata": {},
   "outputs": [],
   "source": [
    "!pip install --disable-pip-version-check -q tensorflow==2.8.1"
   ]
  },
  {
   "cell_type": "code",
   "execution_count": null,
   "id": "e144560f-73ea-4636-9733-3c382a281f21",
   "metadata": {},
   "outputs": [],
   "source": [
    "!pip install --disable-pip-version-check -q transformers==3.5.1"
   ]
  },
  {
   "cell_type": "code",
   "execution_count": null,
   "id": "2ee7af41-2afa-4519-a020-6d1f1fb9fb4a",
   "metadata": {},
   "outputs": [],
   "source": [
    "!pip install --disable-pip-version-check -q torchserve==0.3.0\n",
    "!pip install --disable-pip-version-check -q torch-model-archiver==0.3.0"
   ]
  },
  {
   "cell_type": "code",
   "execution_count": null,
   "id": "40e7842f-6f40-4fa6-800b-d8c480b623d1",
   "metadata": {},
   "outputs": [],
   "source": [
    "!pip install --disable-pip-version-check -q PyAthena==2.1.0"
   ]
  },
  {
   "cell_type": "code",
   "execution_count": null,
   "id": "bb63db44-0e1a-4922-8425-027cd6956be8",
   "metadata": {},
   "outputs": [],
   "source": [
    "\n",
    "!pip install --disable-pip-version-check -q SQLAlchemy==1.3.22"
   ]
  },
  {
   "cell_type": "code",
   "execution_count": null,
   "id": "55f99a2f-e24a-47a0-a8d2-487974d2c699",
   "metadata": {},
   "outputs": [],
   "source": [
    "!pip install --disable-pip-version-check -q awswrangler==2.15.0"
   ]
  },
  {
   "cell_type": "code",
   "execution_count": null,
   "id": "f82a7398-a989-4c36-93eb-3d79c69e934f",
   "metadata": {},
   "outputs": [],
   "source": [
    "!pip install --disable-pip-version-check -q stepfunctions==2.0.0rc1"
   ]
  },
  {
   "cell_type": "code",
   "execution_count": null,
   "id": "e850fc6e-bd74-412e-b802-0c5d3edf8a8e",
   "metadata": {},
   "outputs": [],
   "source": [
    "!conda install -y zip"
   ]
  },
  {
   "cell_type": "code",
   "execution_count": null,
   "id": "ee0c18ee-b3e4-4359-93eb-b5fe04c5f0b1",
   "metadata": {},
   "outputs": [],
   "source": [
    "!pip install --disable-pip-version-check -q matplotlib==3.1.3"
   ]
  },
  {
   "cell_type": "code",
   "execution_count": null,
   "id": "f309b0a6-2f81-4e90-bda6-053ef956f96e",
   "metadata": {},
   "outputs": [],
   "source": [
    "!pip install --disable-pip-version-check -q seaborn==0.10.0"
   ]
  },
  {
   "cell_type": "code",
   "execution_count": null,
   "id": "00d99e9f-4255-446b-83d4-a70ad35dd70f",
   "metadata": {},
   "outputs": [],
   "source": [
    "!pip install protobuf==3.20.*\n",
    "!python --version"
   ]
  },
  {
   "cell_type": "code",
   "execution_count": null,
   "id": "8a6f4031-da21-44b0-9ddc-fb83796633ad",
   "metadata": {},
   "outputs": [],
   "source": [
    "!pip list"
   ]
  },
  {
   "cell_type": "code",
   "execution_count": null,
   "id": "db53447e-ba3b-4a81-92c2-b51c0dffa84c",
   "metadata": {},
   "outputs": [],
   "source": [
    "setup_dependencies_passed = True"
   ]
  },
  {
   "cell_type": "code",
   "execution_count": null,
   "id": "da1aa9e3-c652-427b-a45a-b90bc82d5d6e",
   "metadata": {},
   "outputs": [],
   "source": [
    "%store setup_dependencies_passed"
   ]
  },
  {
   "cell_type": "code",
   "execution_count": null,
   "id": "0225a2ac-483b-464e-8dfd-57ca17854cd9",
   "metadata": {},
   "outputs": [],
   "source": [
    "%store"
   ]
  },
  {
   "cell_type": "code",
   "execution_count": null,
   "id": "eaea7d95-bc6f-4220-8342-2b347ac3a7e5",
   "metadata": {},
   "outputs": [],
   "source": [
    "!pip install --disable-pip-version-check -q sagemaker==2.29.0\n",
    "import boto3\n",
    "import sagemaker\n",
    "\n",
    "session = boto3.session.Session()\n",
    "region = session.region_name\n",
    "sagemaker_session = sagemaker.Session()\n",
    "bucket = sagemaker_session.default_bucket()\n",
    "\n",
    "s3 = boto3.Session().client(service_name=\"s3\", region_name=region)"
   ]
  },
  {
   "cell_type": "code",
   "execution_count": null,
   "id": "66fde1fe-e1c6-46dd-a487-a7bdb461ef3b",
   "metadata": {},
   "outputs": [],
   "source": [
    "\n",
    "setup_s3_bucket_passed = False"
   ]
  },
  {
   "cell_type": "code",
   "execution_count": null,
   "id": "6037b155-b048-4f6a-aaa9-5b5ab9cf0af3",
   "metadata": {},
   "outputs": [],
   "source": [
    "print(\"Default bucket: {}\".format(bucket))"
   ]
  },
  {
   "cell_type": "code",
   "execution_count": null,
   "id": "cae35fac-fabd-422c-bcd7-c613b95bb777",
   "metadata": {},
   "outputs": [],
   "source": [
    "%%bash\n",
    "\n",
    "aws s3 ls s3://${bucket}/"
   ]
  },
  {
   "cell_type": "code",
   "execution_count": null,
   "id": "c22d3e4f-6c61-4b88-bd47-c1014ed1dea9",
   "metadata": {},
   "outputs": [],
   "source": [
    "from botocore.client import ClientError\n",
    "\n",
    "response = None\n",
    "\n",
    "try:\n",
    "    response = s3.head_bucket(Bucket=bucket)\n",
    "    print(response)\n",
    "    setup_s3_bucket_passed = True\n",
    "except ClientError as e:\n",
    "    print(\"[ERROR] Cannot find bucket {} in {} due to {}.\".format(bucket, response, e))"
   ]
  },
  {
   "cell_type": "code",
   "execution_count": null,
   "id": "3f256dfd-73b2-40fc-86c9-2701231a6937",
   "metadata": {},
   "outputs": [],
   "source": [
    "%store setup_s3_bucket_passed"
   ]
  },
  {
   "cell_type": "code",
   "execution_count": null,
   "id": "a642a410-0bf3-40b1-a98d-4aef485fb859",
   "metadata": {},
   "outputs": [],
   "source": [
    "%store"
   ]
  },
  {
   "cell_type": "code",
   "execution_count": null,
   "id": "cb267aab-87ce-4213-abf3-4cf043638d3d",
   "metadata": {},
   "outputs": [],
   "source": [
    "%store"
   ]
  },
  {
   "cell_type": "code",
   "execution_count": null,
   "id": "639259b7-7c91-4dfa-a9ea-2ce66231a724",
   "metadata": {},
   "outputs": [],
   "source": [
    "import boto3\n",
    "import sagemaker\n",
    "import time\n",
    "from time import gmtime, strftime\n",
    "\n",
    "sagemaker_session = sagemaker.Session()\n",
    "role = sagemaker.get_execution_role()\n",
    "bucket = sagemaker_session.default_bucket()\n",
    "region = boto3.Session().region_name\n",
    "\n",
    "from botocore.config import Config\n",
    "\n",
    "config = Config(retries={\"max_attempts\": 10, \"mode\": \"adaptive\"})\n",
    "\n",
    "iam = boto3.client(\"iam\", config=config)"
   ]
  },
  {
   "cell_type": "code",
   "execution_count": null,
   "id": "48460219-2252-4ac7-9ea0-5a5e050f2e24",
   "metadata": {},
   "outputs": [],
   "source": [
    "role_name = role.split(\"/\")[-1]\n",
    "\n",
    "print(\"Role name: {}\".format(role_name))"
   ]
  },
  {
   "cell_type": "code",
   "execution_count": null,
   "id": "a8566435-9b87-48e3-9707-a637741baeda",
   "metadata": {},
   "outputs": [],
   "source": [
    "setup_iam_roles_passed = False"
   ]
  },
  {
   "cell_type": "code",
   "execution_count": null,
   "id": "96478fae-6fb8-4fb7-b289-e81711895a50",
   "metadata": {},
   "outputs": [],
   "source": [
    "admin = False\n",
    "post_policies = iam.list_attached_role_policies(RoleName=role_name)[\"AttachedPolicies\"]\n",
    "for post_policy in post_policies:\n",
    "    if post_policy[\"PolicyName\"] == \"AdministratorAccess\":\n",
    "        admin = True\n",
    "        break\n",
    "\n",
    "setup_iam_roles_passed = True\n",
    "print(\"[OK] You are all set up to continue with this workshop!\")"
   ]
  },
  {
   "cell_type": "code",
   "execution_count": null,
   "id": "f30a0bd8-7e21-4a42-a16b-bc0a4fbce04d",
   "metadata": {},
   "outputs": [],
   "source": [
    "if not admin:\n",
    "    pre_policies = iam.list_attached_role_policies(RoleName=role_name)[\"AttachedPolicies\"]\n",
    "\n",
    "    required_policies = [\"IAMFullAccess\"]\n",
    "\n",
    "    for pre_policy in pre_policies:\n",
    "        for role_req in required_policies:\n",
    "            if pre_policy[\"PolicyName\"] == role_req:\n",
    "                print(\"Attached: {}\".format(pre_policy[\"PolicyName\"]))\n",
    "                try:\n",
    "                    required_policies.remove(pre_policy[\"PolicyName\"])\n",
    "                except:\n",
    "                    pass\n",
    "\n",
    "    if len(required_policies) > 0:\n",
    "        print(\n",
    "            \"*************** [ERROR] You need to attach the following policies in order to continue with this workshop *****************\\n\"\n",
    "        )\n",
    "        for required_policy in required_policies:\n",
    "            print(\"Not Attached: {}\".format(required_policy))\n",
    "    else:\n",
    "        print(\"[OK] You are all set to continue with this notebook!\")\n",
    "else:\n",
    "    print(\"[OK] You are all set to continue with this notebook!\")"
   ]
  },
  {
   "cell_type": "code",
   "execution_count": null,
   "id": "c7060fb8-0878-4396-9f35-706e61f80884",
   "metadata": {},
   "outputs": [],
   "source": [
    "from botocore.exceptions import ClientError\n",
    "\n",
    "try:\n",
    "    policy = \"AdministratorAccess\"\n",
    "    response = iam.attach_role_policy(PolicyArn=\"arn:aws:iam::aws:policy/{}\".format(policy), RoleName=role_name)\n",
    "    print(\"Policy {} has been succesfully attached to role: {}\".format(policy, role_name))\n",
    "except ClientError as e:\n",
    "    if e.response[\"Error\"][\"Code\"] == \"EntityAlreadyExists\":\n",
    "        print(\"[OK] Policy is already attached.\")\n",
    "    elif e.response[\"Error\"][\"Code\"] == \"LimitExceeded\":\n",
    "        print(\"[OK]\")\n",
    "    else:\n",
    "        print(\"*************** [ERROR] {} *****************\".format(e))\n",
    "\n",
    "time.sleep(5)"
   ]
  },
  {
   "cell_type": "code",
   "execution_count": null,
   "id": "35516cbd-65bc-40bb-abb7-e5f37da704cc",
   "metadata": {},
   "outputs": [],
   "source": [
    "from botocore.exceptions import ClientError\n",
    "\n",
    "try:\n",
    "    policy = \"AmazonSageMakerFullAccess\"\n",
    "    response = iam.attach_role_policy(PolicyArn=\"arn:aws:iam::aws:policy/{}\".format(policy), RoleName=role_name)\n",
    "    print(\"Policy {} has been succesfully attached to role: {}\".format(policy, role_name))\n",
    "except ClientError as e:\n",
    "    if e.response[\"Error\"][\"Code\"] == \"EntityAlreadyExists\":\n",
    "        print(\"[OK] Policy is already attached.\")\n",
    "    elif e.response[\"Error\"][\"Code\"] == \"LimitExceeded\":\n",
    "        print(\"[OK]\")\n",
    "    else:\n",
    "        print(\"*************** [ERROR] {} *****************\".format(e))\n",
    "\n",
    "time.sleep(5)"
   ]
  },
  {
   "cell_type": "code",
   "execution_count": null,
   "id": "46dfe8c4-5f94-4b93-929e-9523e6a1d635",
   "metadata": {},
   "outputs": [],
   "source": [
    "from botocore.exceptions import ClientError\n",
    "\n",
    "try:\n",
    "    policy = \"IAMFullAccess\"\n",
    "    response = iam.attach_role_policy(PolicyArn=\"arn:aws:iam::aws:policy/{}\".format(policy), RoleName=role_name)\n",
    "    print(\"Policy {} has been succesfully attached to role: {}\".format(policy, role_name))\n",
    "except ClientError as e:\n",
    "    if e.response[\"Error\"][\"Code\"] == \"EntityAlreadyExists\":\n",
    "        print(\"[OK] Policy is already attached.\")\n",
    "    elif e.response[\"Error\"][\"Code\"] == \"LimitExceeded\":\n",
    "        print(\"[OK]\")\n",
    "    else:\n",
    "        print(\"*************** [ERROR] {} *****************\".format(e))\n",
    "\n",
    "time.sleep(5)"
   ]
  },
  {
   "cell_type": "code",
   "execution_count": null,
   "id": "696babbc-dade-4eb5-8ca2-16c087b61905",
   "metadata": {},
   "outputs": [],
   "source": [
    "from botocore.exceptions import ClientError\n",
    "\n",
    "try:\n",
    "    policy = \"AmazonS3FullAccess\"\n",
    "    response = iam.attach_role_policy(PolicyArn=\"arn:aws:iam::aws:policy/{}\".format(policy), RoleName=role_name)\n",
    "    print(\"Policy {} has been succesfully attached to role: {}\".format(policy, role_name))\n",
    "except ClientError as e:\n",
    "    if e.response[\"Error\"][\"Code\"] == \"EntityAlreadyExists\":\n",
    "        print(\"[OK] Policy is already attached.\")\n",
    "    elif e.response[\"Error\"][\"Code\"] == \"LimitExceeded\":\n",
    "        print(\"[OK]\")\n",
    "    else:\n",
    "        print(\"*************** [ERROR] {} *****************\".format(e))\n",
    "\n",
    "time.sleep(5)"
   ]
  },
  {
   "cell_type": "code",
   "execution_count": null,
   "id": "c419e0b3-0e41-4c41-8c3c-0b378022de3b",
   "metadata": {},
   "outputs": [],
   "source": [
    "from botocore.exceptions import ClientError\n",
    "\n",
    "try:\n",
    "    policy = \"ComprehendFullAccess\"\n",
    "    response = iam.attach_role_policy(PolicyArn=\"arn:aws:iam::aws:policy/{}\".format(policy), RoleName=role_name)\n",
    "    print(\"Policy {} has been succesfully attached to role: {}\".format(policy, role_name))\n",
    "except ClientError as e:\n",
    "    if e.response[\"Error\"][\"Code\"] == \"EntityAlreadyExists\":\n",
    "        print(\"[OK] Policy is already attached.\")\n",
    "    elif e.response[\"Error\"][\"Code\"] == \"LimitExceeded\":\n",
    "        print(\"[OK]\")\n",
    "    else:\n",
    "        print(\"*************** [ERROR] {} *****************\".format(e))\n",
    "\n",
    "time.sleep(5)"
   ]
  },
  {
   "cell_type": "code",
   "execution_count": null,
   "id": "25a134da-c8ce-4cde-8ea4-f7edff5140dd",
   "metadata": {},
   "outputs": [],
   "source": [
    "from botocore.exceptions import ClientError\n",
    "\n",
    "try:\n",
    "    policy = \"AmazonAthenaFullAccess\"\n",
    "    response = iam.attach_role_policy(PolicyArn=\"arn:aws:iam::aws:policy/{}\".format(policy), RoleName=role_name)\n",
    "    print(\"Policy {} has been succesfully attached to role: {}\".format(policy, role_name))\n",
    "except ClientError as e:\n",
    "    if e.response[\"Error\"][\"Code\"] == \"EntityAlreadyExists\":\n",
    "        print(\"[OK] Policy is already attached.\")\n",
    "    elif e.response[\"Error\"][\"Code\"] == \"LimitExceeded\":\n",
    "        print(\"[OK]\")\n",
    "    else:\n",
    "        print(\"*************** [ERROR] {} *****************\".format(e))\n",
    "\n",
    "time.sleep(5)"
   ]
  },
  {
   "cell_type": "code",
   "execution_count": null,
   "id": "f566148e-1bea-4c42-b549-4f453f003c19",
   "metadata": {},
   "outputs": [],
   "source": [
    "from botocore.exceptions import ClientError\n",
    "\n",
    "try:\n",
    "    policy = \"SecretsManagerReadWrite\"\n",
    "    response = iam.attach_role_policy(PolicyArn=\"arn:aws:iam::aws:policy/{}\".format(policy), RoleName=role_name)\n",
    "    print(\"Policy {} has been succesfully attached to role: {}\".format(policy, role_name))\n",
    "except ClientError as e:\n",
    "    if e.response[\"Error\"][\"Code\"] == \"EntityAlreadyExists\":\n",
    "        print(\"[OK] Policy is already attached.\")\n",
    "    elif e.response[\"Error\"][\"Code\"] == \"LimitExceeded\":\n",
    "        print(\"[OK]\")\n",
    "    else:\n",
    "        print(\"*************** [ERROR] {} *****************\".format(e))\n",
    "\n",
    "time.sleep(5)"
   ]
  },
  {
   "cell_type": "code",
   "execution_count": null,
   "id": "0b2b663a-3873-4014-94c1-1d52b5ff04c7",
   "metadata": {},
   "outputs": [],
   "source": [
    "from botocore.exceptions import ClientError\n",
    "\n",
    "try:\n",
    "    policy = \"AmazonRedshiftFullAccess\"\n",
    "    response = iam.attach_role_policy(PolicyArn=\"arn:aws:iam::aws:policy/{}\".format(policy), RoleName=role_name)\n",
    "    print(\"Policy {} has been succesfully attached to role: {}\".format(policy, role_name))\n",
    "except ClientError as e:\n",
    "    if e.response[\"Error\"][\"Code\"] == \"EntityAlreadyExists\":\n",
    "        print(\"[OK] Policy is already attached.\")\n",
    "    elif e.response[\"Error\"][\"Code\"] == \"LimitExceeded\":\n",
    "        print(\"[OK]\")\n",
    "    else:\n",
    "        print(\"*************** [ERROR] {} *****************\".format(e))\n",
    "\n",
    "time.sleep(5)"
   ]
  },
  {
   "cell_type": "code",
   "execution_count": null,
   "id": "72a52d6f-6d9d-4f3a-b178-363d5a0486cf",
   "metadata": {},
   "outputs": [],
   "source": [
    "from botocore.exceptions import ClientError\n",
    "\n",
    "try:\n",
    "    policy = \"AmazonEC2ContainerRegistryFullAccess\"\n",
    "    response = iam.attach_role_policy(PolicyArn=\"arn:aws:iam::aws:policy/{}\".format(policy), RoleName=role_name)\n",
    "    print(\"Policy {} has been succesfully attached to role: {}\".format(policy, role_name))\n",
    "except ClientError as e:\n",
    "    if e.response[\"Error\"][\"Code\"] == \"EntityAlreadyExists\":\n",
    "        print(\"[OK] Policy is already attached.\")\n",
    "    elif e.response[\"Error\"][\"Code\"] == \"LimitExceeded\":\n",
    "        print(\"[OK]\")\n",
    "    else:\n",
    "        print(\"*************** [ERROR] {} *****************\".format(e))\n",
    "\n",
    "time.sleep(5)"
   ]
  },
  {
   "cell_type": "code",
   "execution_count": null,
   "id": "68d11294-79d2-400a-a75d-f2622a69937d",
   "metadata": {},
   "outputs": [],
   "source": [
    "from botocore.exceptions import ClientError\n",
    "\n",
    "try:\n",
    "    policy = \"AWSStepFunctionsFullAccess\"\n",
    "    response = iam.attach_role_policy(PolicyArn=\"arn:aws:iam::aws:policy/{}\".format(policy), RoleName=role_name)\n",
    "    print(\"Policy {} has been succesfully attached to role: {}\".format(policy, role_name))\n",
    "except ClientError as e:\n",
    "    if e.response[\"Error\"][\"Code\"] == \"EntityAlreadyExists\":\n",
    "        print(\"[OK] Policy is already attached.\")\n",
    "    elif e.response[\"Error\"][\"Code\"] == \"LimitExceeded\":\n",
    "        print(\"[OK]\")\n",
    "    else:\n",
    "        print(\"*************** [ERROR] {} *****************\".format(e))\n",
    "\n",
    "time.sleep(5)"
   ]
  },
  {
   "cell_type": "code",
   "execution_count": null,
   "id": "a3036c9b-0064-431c-bed8-25dcd1d44796",
   "metadata": {},
   "outputs": [],
   "source": [
    "from botocore.exceptions import ClientError\n",
    "\n",
    "try:\n",
    "    policy = \"AmazonKinesisFullAccess\"\n",
    "    response = iam.attach_role_policy(PolicyArn=\"arn:aws:iam::aws:policy/{}\".format(policy), RoleName=role_name)\n",
    "    print(\"Policy {} has been succesfully attached to role: {}\".format(policy, role_name))\n",
    "except ClientError as e:\n",
    "    if e.response[\"Error\"][\"Code\"] == \"EntityAlreadyExists\":\n",
    "        print(\"[OK] Policy is already attached.\")\n",
    "    elif e.response[\"Error\"][\"Code\"] == \"LimitExceeded\":\n",
    "        print(\"[OK]\")\n",
    "    else:\n",
    "        print(\"*************** [ERROR] {} *****************\".format(e))\n",
    "\n",
    "time.sleep(5)"
   ]
  },
  {
   "cell_type": "code",
   "execution_count": null,
   "id": "715cb629-94e3-4be7-8995-07c7154f2d34",
   "metadata": {},
   "outputs": [],
   "source": [
    "from botocore.exceptions import ClientError\n",
    "\n",
    "try:\n",
    "    policy = \"AmazonKinesisFirehoseFullAccess\"\n",
    "    response = iam.attach_role_policy(PolicyArn=\"arn:aws:iam::aws:policy/{}\".format(policy), RoleName=role_name)\n",
    "    print(\"Policy {} has been succesfully attached to role: {}\".format(policy, role_name))\n",
    "except ClientError as e:\n",
    "    if e.response[\"Error\"][\"Code\"] == \"EntityAlreadyExists\":\n",
    "        print(\"[OK] Policy is already attached.\")\n",
    "    elif e.response[\"Error\"][\"Code\"] == \"LimitExceeded\":\n",
    "        print(\"[OK]\")\n",
    "    else:\n",
    "        print(\"*************** [ERROR] {} *****************\".format(e))\n",
    "\n",
    "time.sleep(5)"
   ]
  },
  {
   "cell_type": "code",
   "execution_count": null,
   "id": "c7e16963-4fe4-48ff-8bd8-31ab1b09d332",
   "metadata": {},
   "outputs": [],
   "source": [
    "from botocore.exceptions import ClientError\n",
    "\n",
    "try:\n",
    "    policy = \"AmazonKinesisAnalyticsFullAccess\"\n",
    "    response = iam.attach_role_policy(PolicyArn=\"arn:aws:iam::aws:policy/{}\".format(policy), RoleName=role_name)\n",
    "    print(\"Policy {} has been succesfully attached to role: {}\".format(policy, role_name))\n",
    "except ClientError as e:\n",
    "    if e.response[\"Error\"][\"Code\"] == \"EntityAlreadyExists\":\n",
    "        print(\"[OK] Policy is already attached.\")\n",
    "    elif e.response[\"Error\"][\"Code\"] == \"LimitExceeded\":\n",
    "        print(\"[OK]\")\n",
    "    else:\n",
    "        print(\"*************** [ERROR] {} *****************\".format(e))\n",
    "\n",
    "time.sleep(5)"
   ]
  },
  {
   "cell_type": "code",
   "execution_count": null,
   "id": "174011ff-a25c-42bb-88a1-f7fb5bbb7baa",
   "metadata": {},
   "outputs": [],
   "source": [
    "post_policies = iam.list_attached_role_policies(RoleName=role_name)[\"AttachedPolicies\"]\n",
    "\n",
    "required_policies = [\n",
    "    \"AdministratorAccess\",\n",
    "    \"SecretsManagerReadWrite\",\n",
    "    \"IAMFullAccess\",\n",
    "    \"AmazonS3FullAccess\",\n",
    "    \"AmazonAthenaFullAccess\",\n",
    "    \"ComprehendFullAccess\",\n",
    "    \"AmazonEC2ContainerRegistryFullAccess\",\n",
    "    \"AmazonRedshiftFullAccess\",\n",
    "    \"AWSStepFunctionsFullAccess\",\n",
    "    \"AmazonSageMakerFullAccess\",\n",
    "    \"AmazonKinesisFullAccess\",\n",
    "    \"AmazonKinesisFirehoseFullAccess\",\n",
    "    \"AmazonKinesisAnalyticsFullAccess\",\n",
    "]\n",
    "\n",
    "admin = False\n",
    "\n",
    "for post_policy in post_policies:\n",
    "    if post_policy[\"PolicyName\"] == \"AdministratorAccess\":\n",
    "        admin = True\n",
    "        try:\n",
    "            required_policies.remove(post_policy[\"PolicyName\"])\n",
    "        except:\n",
    "            break\n",
    "    else:\n",
    "        try:\n",
    "            required_policies.remove(post_policy[\"PolicyName\"])\n",
    "        except:\n",
    "            pass\n",
    "\n",
    "if not admin and len(required_policies) > 0:\n",
    "    print(\"*************** [ERROR] RE-RUN THIS NOTEBOOK *****************\")\n",
    "    for required_policy in required_policies:\n",
    "        print(\"Not Attached: {}\".format(required_policy))\n",
    "else:\n",
    "    setup_iam_roles_passed = True\n",
    "    print(\"[OK] You are all set up to continue with this workshop!\")"
   ]
  },
  {
   "cell_type": "code",
   "execution_count": null,
   "id": "cc40597d-a502-43fc-aa90-71d9f49b1654",
   "metadata": {},
   "outputs": [],
   "source": [
    "%store setup_iam_roles_passed"
   ]
  },
  {
   "cell_type": "code",
   "execution_count": null,
   "id": "4bed217b-8666-472c-a0b9-515e21f21871",
   "metadata": {},
   "outputs": [],
   "source": [
    "%store"
   ]
  },
  {
   "cell_type": "code",
   "execution_count": null,
   "id": "f97170b8-0344-4a9b-af6b-b336b47d7ffe",
   "metadata": {},
   "outputs": [],
   "source": [
    "%%html\n",
    "\n",
    "<p><b>Shutting down your kernel for this notebook to release resources.</b></p>\n",
    "<button class=\"sm-command-button\" data-commandlinker-command=\"kernelmenu:shutdown\" style=\"display:none;\">Shutdown Kernel</button>\n",
    "        \n",
    "<script>\n",
    "try {\n",
    "    els = document.getElementsByClassName(\"sm-command-button\");\n",
    "    els[0].click();\n",
    "}\n",
    "catch(err) {\n",
    "    // NoOp\n",
    "}    \n",
    "</script>"
   ]
  },
  {
   "cell_type": "code",
   "execution_count": null,
   "id": "7ab3e250-9963-4350-b0ba-fcd6d162ae04",
   "metadata": {},
   "outputs": [],
   "source": [
    "%%javascript\n",
    "\n",
    "try {\n",
    "    Jupyter.notebook.save_checkpoint();\n",
    "    Jupyter.notebook.session.delete();\n",
    "}\n",
    "catch(err) {\n",
    "    // NoOp\n",
    "}"
   ]
  }
 ],
 "metadata": {
  "kernelspec": {
   "display_name": "Python 3 (ipykernel)",
   "language": "python",
   "name": "python3"
  },
  "language_info": {
   "codemirror_mode": {
    "name": "ipython",
    "version": 3
   },
   "file_extension": ".py",
   "mimetype": "text/x-python",
   "name": "python",
   "nbconvert_exporter": "python",
   "pygments_lexer": "ipython3",
   "version": "3.11.11"
  }
 },
 "nbformat": 4,
 "nbformat_minor": 5
}
