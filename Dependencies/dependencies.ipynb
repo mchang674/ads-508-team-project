{
 "cells": [
  {
   "cell_type": "code",
   "execution_count": 1,
   "id": "a405a309-84a8-4b62-8086-a194c47639af",
   "metadata": {},
   "outputs": [
    {
     "name": "stdout",
     "output_type": "stream",
     "text": [
      "Python 3.11.11\n"
     ]
    }
   ],
   "source": [
    "!python --version"
   ]
  },
  {
   "cell_type": "code",
   "execution_count": 2,
   "id": "62a1afaa-0430-461e-be4c-59978da9dd11",
   "metadata": {},
   "outputs": [
    {
     "name": "stdout",
     "output_type": "stream",
     "text": [
      "Package                                 Version\n",
      "--------------------------------------- --------------\n",
      "absl-py                                 2.1.0\n",
      "accelerate                              0.34.2\n",
      "adagio                                  0.2.6\n",
      "aiobotocore                             2.19.0\n",
      "aiohttp                                 3.9.5\n",
      "aiohttp-cors                            0.7.0\n",
      "aioitertools                            0.12.0\n",
      "aiosignal                               1.3.2\n",
      "aiosqlite                               0.19.0\n",
      "alembic                                 1.14.1\n",
      "altair                                  5.5.0\n",
      "amazon-q-developer-jupyterlab-ext       3.4.6\n",
      "amazon_sagemaker_jupyter_ai_q_developer 1.0.16\n",
      "amazon_sagemaker_jupyter_scheduler      3.1.9\n",
      "amazon-sagemaker-sql-editor             0.1.14\n",
      "amazon-sagemaker-sql-execution          0.1.6\n",
      "amazon-sagemaker-sql-magic              0.1.3\n",
      "annotated-types                         0.7.0\n",
      "ansi2html                               1.9.2\n",
      "ansicolors                              1.1.8\n",
      "antlr4-python3-runtime                  4.9.3\n",
      "anyio                                   4.8.0\n",
      "appdirs                                 1.4.4\n",
      "archspec                                0.2.5\n",
      "argon2-cffi                             23.1.0\n",
      "argon2-cffi-bindings                    21.2.0\n",
      "arrow                                   1.3.0\n",
      "asn1crypto                              1.5.1\n",
      "astroid                                 3.3.8\n",
      "asttokens                               3.0.0\n",
      "astunparse                              1.6.3\n",
      "async-lru                               2.0.4\n",
      "async-timeout                           4.0.3\n",
      "attrs                                   23.2.0\n",
      "autogluon                               1.2\n",
      "autogluon.common                        1.2\n",
      "autogluon.core                          1.2\n",
      "autogluon.features                      1.2\n",
      "autogluon.multimodal                    1.2\n",
      "autogluon.tabular                       1.2\n",
      "autogluon.timeseries                    1.2\n",
      "autopep8                                2.0.4\n",
      "autovizwidget                           0.22.0\n",
      "aws-embedded-metrics                    3.2.0\n",
      "aws-glue-sessions                       1.0.8\n",
      "babel                                   2.17.0\n",
      "bcrypt                                  4.2.1\n",
      "beautifulsoup4                          4.13.3\n",
      "binaryornot                             0.4.4\n",
      "bleach                                  6.2.0\n",
      "blinker                                 1.9.0\n",
      "blis                                    1.0.1\n",
      "boltons                                 24.0.0\n",
      "boto3                                   1.36.3\n",
      "botocore                                1.36.3\n",
      "Brotli                                  1.1.0\n",
      "cached-property                         1.5.2\n",
      "cachetools                              5.5.1\n",
      "catalogue                               2.0.10\n",
      "catboost                                1.2.7\n",
      "certifi                                 2024.12.14\n",
      "cffi                                    1.17.1\n",
      "chardet                                 5.2.0\n",
      "charset-normalizer                      3.4.1\n",
      "click                                   8.1.8\n",
      "cloudpathlib                            0.20.0\n",
      "cloudpickle                             2.2.1\n",
      "colorama                                0.4.6\n",
      "colorful                                0.5.6\n",
      "colorlog                                6.9.0\n",
      "comm                                    0.2.2\n",
      "conda                                   24.11.3\n",
      "conda-libmamba-solver                   24.9.0\n",
      "conda-package-handling                  2.4.0\n",
      "conda_package_streaming                 0.11.0\n",
      "confection                              0.1.4\n",
      "contextlib2                             21.6.0\n",
      "contourpy                               1.3.1\n",
      "cookiecutter                            2.6.0\n",
      "coreforecast                            0.0.12\n",
      "croniter                                1.4.1\n",
      "cryptography                            44.0.0\n",
      "cycler                                  0.12.1\n",
      "cymem                                   2.0.11\n",
      "cytoolz                                 1.0.1\n",
      "dash                                    2.18.1\n",
      "dask                                    2024.8.0\n",
      "databricks-sdk                          0.43.0\n",
      "dataclasses                             0.8\n",
      "dataclasses-json                        0.6.7\n",
      "datasets                                2.2.1\n",
      "debugpy                                 1.8.12\n",
      "decorator                               5.1.1\n",
      "deepmerge                               2.0\n",
      "defusedxml                              0.7.1\n",
      "Deprecated                              1.2.18\n",
      "dill                                    0.3.9\n",
      "diskcache                               5.6.3\n",
      "distlib                                 0.3.9\n",
      "distributed                             2024.8.0\n",
      "distro                                  1.9.0\n",
      "dnspython                               2.7.0\n",
      "docker                                  7.1.0\n",
      "docstring-to-markdown                   0.15\n",
      "email_validator                         2.2.0\n",
      "entrypoints                             0.4\n",
      "evaluate                                0.4.1\n",
      "exceptiongroup                          1.2.2\n",
      "executing                               2.1.0\n",
      "faiss                                   1.9.0\n",
      "fastai                                  2.7.18\n",
      "fastapi                                 0.115.8\n",
      "fastapi-cli                             0.0.7\n",
      "fastcore                                1.7.20\n",
      "fastdownload                            0.0.7\n",
      "fastjsonschema                          2.21.1\n",
      "fastprogress                            1.0.3\n",
      "filelock                                3.17.0\n",
      "flake8                                  7.1.1\n",
      "Flask                                   3.1.0\n",
      "flatbuffers                             25.1.24\n",
      "fonttools                               4.56.0\n",
      "fqdn                                    1.5.1\n",
      "frozendict                              2.4.6\n",
      "frozenlist                              1.5.0\n",
      "fs                                      2.4.16\n",
      "fsspec                                  2024.10.0\n",
      "fugue                                   0.9.1\n",
      "future                                  1.0.0\n",
      "gast                                    0.6.0\n",
      "gdown                                   5.2.0\n",
      "git-remote-codecommit                   1.16\n",
      "gitdb                                   4.0.12\n",
      "GitPython                               3.1.44\n",
      "gluonts                                 0.16.0\n",
      "gmpy2                                   2.1.5\n",
      "google-api-core                         2.24.1\n",
      "google-auth                             2.38.0\n",
      "google-pasta                            0.2.0\n",
      "googleapis-common-protos                1.66.0\n",
      "graphene                                3.4.3\n",
      "graphql-core                            3.2.6\n",
      "graphql-relay                           3.2.0\n",
      "graphviz                                0.20.3\n",
      "greenlet                                3.1.1\n",
      "grpcio                                  1.62.2\n",
      "gssapi                                  1.9.0\n",
      "gunicorn                                23.0.0\n",
      "h11                                     0.14.0\n",
      "h2                                      4.2.0\n",
      "h5py                                    3.12.1\n",
      "hdijupyterutils                         0.22.0\n",
      "hpack                                   4.1.0\n",
      "httpcore                                1.0.7\n",
      "httptools                               0.6.4\n",
      "httpx                                   0.28.1\n",
      "httpx-sse                               0.4.0\n",
      "huggingface_hub                         0.28.0\n",
      "hyperframe                              6.1.0\n",
      "hyperopt                                0.2.7\n",
      "idna                                    3.10\n",
      "imagecodecs-lite                        2019.12.3\n",
      "imageio                                 2.37.0\n",
      "importlib-metadata                      6.10.0\n",
      "importlib_resources                     6.5.2\n",
      "ipykernel                               6.29.5\n",
      "ipython                                 8.31.0\n",
      "ipywidgets                              8.1.5\n",
      "isoduration                             20.11.0\n",
      "isort                                   6.0.0\n",
      "itsdangerous                            2.2.0\n",
      "jedi                                    0.19.2\n",
      "Jinja2                                  3.1.5\n",
      "jmespath                                1.0.1\n",
      "joblib                                  1.4.2\n",
      "json5                                   0.10.0\n",
      "jsonpatch                               1.33\n",
      "jsonpath-ng                             1.6.1\n",
      "jsonpointer                             3.0.0\n",
      "jsonschema                              4.23.0\n",
      "jsonschema-specifications               2024.10.1\n",
      "jupyter                                 1.1.1\n",
      "jupyter-activity-monitor-extension      0.3.1\n",
      "jupyter_ai                              2.29.1\n",
      "jupyter_ai_magics                       2.29.1\n",
      "jupyter_client                          8.6.3\n",
      "jupyter_collaboration                   2.1.5\n",
      "jupyter-console                         6.6.3\n",
      "jupyter_core                            5.7.2\n",
      "jupyter-dash                            0.4.2\n",
      "jupyter-events                          0.12.0\n",
      "jupyter-lsp                             2.2.5\n",
      "jupyter_scheduler                       2.10.0\n",
      "jupyter_server                          2.15.0\n",
      "jupyter_server_fileid                   0.9.2\n",
      "jupyter_server_mathjax                  0.2.6\n",
      "jupyter_server_proxy                    4.4.0\n",
      "jupyter_server_terminals                0.5.3\n",
      "jupyter-ydoc                            2.1.5\n",
      "jupyterlab                              4.2.7\n",
      "jupyterlab_git                          0.50.2\n",
      "jupyterlab-lsp                          5.0.3\n",
      "jupyterlab_pygments                     0.3.0\n",
      "jupyterlab_server                       2.27.3\n",
      "jupyterlab_widgets                      3.0.13\n",
      "keras                                   3.8.0\n",
      "kiwisolver                              1.4.7\n",
      "krb5                                    0.5.1\n",
      "langchain                               0.3.17\n",
      "langchain-aws                           0.2.10\n",
      "langchain-community                     0.3.16\n",
      "langchain-core                          0.3.34\n",
      "langchain-text-splitters                0.3.5\n",
      "langcodes                               3.4.1\n",
      "langsmith                               0.2.11\n",
      "language_data                           1.3.0\n",
      "lazy_loader                             0.4\n",
      "libmambapy                              1.5.12\n",
      "lightgbm                                4.5.0\n",
      "lightning                               2.5.0.post0\n",
      "lightning-utilities                     0.12.0\n",
      "linkify-it-py                           2.0.3\n",
      "llvmlite                                0.44.0\n",
      "locket                                  1.0.0\n",
      "lxml                                    5.3.0\n",
      "Mako                                    1.3.9\n",
      "marisa-trie                             1.2.1\n",
      "Markdown                                3.6\n",
      "markdown-it-py                          3.0.0\n",
      "MarkupSafe                              3.0.2\n",
      "marshmallow                             3.26.1\n",
      "matplotlib                              3.10.0\n",
      "matplotlib-inline                       0.1.7\n",
      "mccabe                                  0.7.0\n",
      "mdit-py-plugins                         0.4.2\n",
      "mdurl                                   0.1.2\n",
      "memray                                  1.15.0\n",
      "menuinst                                2.2.0\n",
      "mistune                                 3.1.1\n",
      "ml-dtypes                               0.4.0\n",
      "mlflow                                  2.20.1\n",
      "mlflow-skinny                           2.20.1\n",
      "mlforecast                              0.13.4\n",
      "model-index                             0.1.11\n",
      "mpmath                                  1.3.0\n",
      "msgpack                                 1.1.0\n",
      "multidict                               6.1.0\n",
      "multiprocess                            0.70.17\n",
      "munkres                                 1.1.4\n",
      "murmurhash                              1.0.10\n",
      "mypy_extensions                         1.0.0\n",
      "namex                                   0.0.8\n",
      "narwhals                                1.25.2\n",
      "nbclient                                0.10.2\n",
      "nbconvert                               7.16.6\n",
      "nbdime                                  4.0.2\n",
      "nbformat                                5.10.4\n",
      "nest_asyncio                            1.6.0\n",
      "networkx                                3.4.2\n",
      "nlpaug                                  1.1.11\n",
      "nltk                                    3.9.1\n",
      "nose                                    1.3.7\n",
      "notebook                                7.2.2\n",
      "notebook_shim                           0.2.4\n",
      "numba                                   0.61.0\n",
      "numpy                                   1.26.4\n",
      "omegaconf                               2.3.0\n",
      "opencensus                              0.11.3\n",
      "opencensus-context                      0.1.3\n",
      "openmim                                 0.3.7\n",
      "opentelemetry-api                       1.30.0\n",
      "opentelemetry-sdk                       1.30.0\n",
      "opentelemetry-semantic-conventions      0.51b0\n",
      "opt_einsum                              3.4.0\n",
      "optree                                  0.14.0\n",
      "optuna                                  4.2.0\n",
      "ordered-set                             4.1.0\n",
      "orjson                                  3.10.15\n",
      "overrides                               7.7.0\n",
      "packaging                               24.2\n",
      "pandas                                  2.2.3\n",
      "pandocfilters                           1.5.0\n",
      "papermill                               2.6.0\n",
      "paramiko                                3.5.1\n",
      "parso                                   0.8.4\n",
      "partd                                   1.4.2\n",
      "pathos                                  0.3.3\n",
      "patsy                                   1.0.1\n",
      "pdf2image                               1.17.0\n",
      "pexpect                                 4.9.0\n",
      "pickleshare                             0.7.5\n",
      "pillow                                  11.1.0\n",
      "pip                                     24.3.1\n",
      "pkgutil_resolve_name                    1.3.10\n",
      "platformdirs                            4.3.6\n",
      "plotly                                  6.0.0\n",
      "pluggy                                  1.5.0\n",
      "ply                                     3.11\n",
      "pox                                     0.3.5\n",
      "ppft                                    1.7.6.9\n",
      "preshed                                 3.0.9\n",
      "prometheus_client                       0.21.1\n",
      "prometheus_flask_exporter               0.23.1\n",
      "prompt_toolkit                          3.0.50\n",
      "propcache                               0.2.1\n",
      "proto-plus                              1.26.0\n",
      "protobuf                                4.25.3\n",
      "psutil                                  5.9.8\n",
      "ptyprocess                              0.7.0\n",
      "pure_eval                               0.2.3\n",
      "pure-sasl                               0.6.2\n",
      "py4j                                    0.10.9.9\n",
      "pyarrow                                 17.0.0\n",
      "pyasn1                                  0.6.1\n",
      "pyasn1_modules                          0.4.1\n",
      "PyAthena                                3.12.2\n",
      "pycodestyle                             2.12.1\n",
      "pycosat                                 0.6.6\n",
      "pycparser                               2.22\n",
      "pycrdt                                  0.12.8\n",
      "pycrdt-websocket                        0.15.4\n",
      "pydantic                                2.10.6\n",
      "pydantic_core                           2.27.2\n",
      "pydantic-settings                       2.7.1\n",
      "pydocstyle                              6.3.0\n",
      "pyflakes                                3.2.0\n",
      "Pygments                                2.19.1\n",
      "PyHive                                  0.7.0\n",
      "PyJWT                                   2.10.1\n",
      "pylint                                  3.3.4\n",
      "PyNaCl                                  1.5.0\n",
      "pyOpenSSL                               24.3.0\n",
      "pyparsing                               3.2.1\n",
      "PySocks                                 1.7.1\n",
      "pyspnego                                0.11.2\n",
      "pytesseract                             0.3.10\n",
      "python-dateutil                         2.9.0.post0\n",
      "python-dotenv                           1.0.1\n",
      "python-json-logger                      2.0.7\n",
      "python-lsp-jsonrpc                      1.1.2\n",
      "python-lsp-server                       1.12.1\n",
      "python-multipart                        0.0.20\n",
      "python-slugify                          8.0.4\n",
      "pytoolconfig                            1.2.5\n",
      "pytorch-lightning                       2.5.0.post0\n",
      "pytorch-metric-learning                 2.3.0\n",
      "pytz                                    2024.1\n",
      "pyu2f                                   0.1.5\n",
      "PyWavelets                              1.8.0\n",
      "PyYAML                                  6.0.2\n",
      "pyzmq                                   26.2.1\n",
      "querystring_parser                      1.2.4\n",
      "ray                                     2.37.0\n",
      "redshift_connector                      2.1.5\n",
      "referencing                             0.36.2\n",
      "regex                                   2024.11.6\n",
      "requests                                2.32.3\n",
      "requests-kerberos                       0.15.0\n",
      "requests-toolbelt                       1.0.0\n",
      "responses                               0.18.0\n",
      "retrying                                1.3.3\n",
      "rfc3339_validator                       0.1.4\n",
      "rfc3986-validator                       0.1.1\n",
      "rich                                    13.9.4\n",
      "rich-toolkit                            0.11.3\n",
      "rope                                    1.13.0\n",
      "rpds-py                                 0.22.3\n",
      "rsa                                     4.9\n",
      "ruamel.yaml                             0.18.10\n",
      "ruamel.yaml.clib                        0.2.8\n",
      "s3fs                                    2024.10.0\n",
      "s3transfer                              0.11.2\n",
      "safetensors                             0.5.2\n",
      "sagemaker                               2.228.0\n",
      "sagemaker-headless-execution-driver     0.0.13\n",
      "sagemaker-jupyterlab-emr-extension      0.3.7\n",
      "sagemaker-jupyterlab-extension          0.3.3\n",
      "sagemaker-jupyterlab-extension-common   0.1.33\n",
      "sagemaker-kernel-wrapper                0.0.4\n",
      "sagemaker-mlflow                        0.1.0\n",
      "sagemaker-studio-analytics-extension    0.1.4\n",
      "sagemaker-studio-sparkmagic-lib         0.1.4\n",
      "schema                                  0.7.7\n",
      "scikit-image                            0.20.0\n",
      "scikit-learn                            1.5.2\n",
      "scipy                                   1.15.1\n",
      "scramp                                  1.4.4\n",
      "seaborn                                 0.13.2\n",
      "Send2Trash                              1.8.3\n",
      "sentencepiece                           0.1.99\n",
      "seqeval                                 1.2.2\n",
      "setproctitle                            1.3.4\n",
      "setuptools                              75.8.0\n",
      "shellingham                             1.5.4\n",
      "simpervisor                             1.0.0\n",
      "six                                     1.17.0\n",
      "smart_open                              7.1.0\n",
      "smdebug-rulesconfig                     1.0.1\n",
      "smmap                                   5.0.0\n",
      "sniffio                                 1.3.1\n",
      "snowballstemmer                         2.2.0\n",
      "snowflake-connector-python              3.13.2\n",
      "sortedcontainers                        2.4.0\n",
      "soupsieve                               2.5\n",
      "spacy                                   3.8.2\n",
      "spacy-legacy                            3.0.12\n",
      "spacy-loggers                           1.0.5\n",
      "sparkmagic                              0.21.0\n",
      "SQLAlchemy                              2.0.38\n",
      "sqlite-anyio                            0.2.3\n",
      "sqlparse                                0.5.3\n",
      "srsly                                   2.5.1\n",
      "stack_data                              0.6.3\n",
      "starlette                               0.45.3\n",
      "statsforecast                           1.7.8\n",
      "statsmodels                             0.14.4\n",
      "supervisor                              4.2.5\n",
      "sympy                                   1.13.3\n",
      "tabulate                                0.9.0\n",
      "tblib                                   2.0.0\n",
      "tenacity                                9.0.0\n",
      "tensorboard                             2.17.1\n",
      "tensorboard_data_server                 0.7.0\n",
      "tensorboardX                            2.6.2.2\n",
      "tensorflow                              2.17.0\n",
      "tensorflow_estimator                    2.15.0\n",
      "termcolor                               2.5.0\n",
      "terminado                               0.18.1\n",
      "text-unidecode                          1.3\n",
      "textual                                 1.0.0\n",
      "tf_keras                                2.17.0\n",
      "thinc                                   8.3.2\n",
      "threadpoolctl                           3.5.0\n",
      "thrift                                  0.20.0\n",
      "thrift_sasl                             0.4.3\n",
      "tifffile                                2020.6.3\n",
      "timm                                    1.0.3\n",
      "tinycss2                                1.4.0\n",
      "tokenizers                              0.21.0\n",
      "tomli                                   2.2.1\n",
      "tomlkit                                 0.13.2\n",
      "toolz                                   0.12.1\n",
      "torch                                   2.4.1.post100\n",
      "torchmetrics                            1.2.1\n",
      "torchvision                             0.19.1\n",
      "tornado                                 6.4.2\n",
      "tqdm                                    4.67.1\n",
      "traitlets                               5.14.3\n",
      "transformers                            4.48.3\n",
      "triad                                   0.9.8\n",
      "truststore                              0.10.0\n",
      "typer                                   0.15.1\n",
      "typer-slim                              0.15.1\n",
      "types-python-dateutil                   2.9.0.20241206\n",
      "typing_extensions                       4.12.2\n",
      "typing_inspect                          0.9.0\n",
      "typing_utils                            0.1.0\n",
      "tzdata                                  2025.1\n",
      "uc-micro-py                             1.0.3\n",
      "ujson                                   5.10.0\n",
      "unicodedata2                            16.0.0\n",
      "uri-template                            1.3.0\n",
      "urllib3                                 1.26.19\n",
      "utilsforecast                           0.2.3\n",
      "uvicorn                                 0.34.0\n",
      "uvloop                                  0.21.0\n",
      "virtualenv                              20.29.1\n",
      "wasabi                                  1.1.2\n",
      "watchfiles                              0.24.0\n",
      "wcwidth                                 0.2.13\n",
      "weasel                                  0.4.1\n",
      "webcolors                               24.11.1\n",
      "webencodings                            0.5.1\n",
      "websocket-client                        1.8.0\n",
      "websockets                              14.2\n",
      "Werkzeug                                3.1.3\n",
      "whatthepatch                            1.0.7\n",
      "wheel                                   0.45.1\n",
      "widgetsnbextension                      4.0.13\n",
      "window_ops                              0.0.15\n",
      "wrapt                                   1.17.2\n",
      "xgboost                                 2.1.4\n",
      "xxhash                                  3.5.0\n",
      "y-py                                    0.6.2\n",
      "yapf                                    0.43.0\n",
      "yarl                                    1.18.3\n",
      "ypy-websocket                           0.12.4\n",
      "zict                                    3.0.0\n",
      "zipp                                    3.21.0\n",
      "zstandard                               0.23.0\n"
     ]
    }
   ],
   "source": [
    "!pip list"
   ]
  },
  {
   "cell_type": "code",
   "execution_count": 3,
   "id": "09c5169f-9e3b-4874-a094-b9ad19de1d48",
   "metadata": {},
   "outputs": [],
   "source": [
    "!pip install --disable-pip-version-check -q pip --upgrade > /dev/null\n",
    "!pip install --disable-pip-version-check -q wrapt --upgrade > /dev/null"
   ]
  },
  {
   "cell_type": "code",
   "execution_count": 4,
   "id": "1df9bab7-aade-4cf9-99a5-133ae545399e",
   "metadata": {},
   "outputs": [
    {
     "name": "stdout",
     "output_type": "stream",
     "text": [
      "\u001b[31mERROR: pip's dependency resolver does not currently take into account all the packages that are installed. This behaviour is the source of the following dependency conflicts.\n",
      "autogluon-multimodal 1.2 requires nvidia-ml-py3==7.352.0, which is not installed.\n",
      "jupyter-ai 2.29.1 requires faiss-cpu!=1.8.0.post0,<2.0.0,>=1.8.0, which is not installed.\n",
      "aiobotocore 2.19.0 requires botocore<1.36.4,>=1.36.0, but you have botocore 1.19.56 which is incompatible.\n",
      "amazon-sagemaker-sql-editor 0.1.14 requires boto3<2,>=1.29.6, but you have boto3 1.16.56 which is incompatible.\n",
      "amazon-sagemaker-sql-editor 0.1.14 requires botocore<2,>=1.31.64, but you have botocore 1.19.56 which is incompatible.\n",
      "amazon-sagemaker-sql-execution 0.1.6 requires boto3>=1.28.64, but you have boto3 1.16.56 which is incompatible.\n",
      "amazon-sagemaker-sql-magic 0.1.3 requires sqlparse==0.5.0, but you have sqlparse 0.5.3 which is incompatible.\n",
      "autogluon-multimodal 1.2 requires jsonschema<4.22,>=4.18, but you have jsonschema 4.23.0 which is incompatible.\n",
      "autogluon-multimodal 1.2 requires nltk<3.9,>=3.4.5, but you have nltk 3.9.1 which is incompatible.\n",
      "autogluon-multimodal 1.2 requires omegaconf<2.3.0,>=2.1.1, but you have omegaconf 2.3.0 which is incompatible.\n",
      "aws-glue-sessions 1.0.8 requires boto3>=1.21.31, but you have boto3 1.16.56 which is incompatible.\n",
      "aws-glue-sessions 1.0.8 requires botocore>=1.24.24, but you have botocore 1.19.56 which is incompatible.\n",
      "langchain-aws 0.2.10 requires boto3>=1.35.74, but you have boto3 1.16.56 which is incompatible.\n",
      "lightning 2.5.0.post0 requires PyYAML<8.0,>=5.4, but you have pyyaml 5.3.1 which is incompatible.\n",
      "pyathena 3.12.2 requires boto3>=1.26.4, but you have boto3 1.16.56 which is incompatible.\n",
      "pyathena 3.12.2 requires botocore>=1.29.4, but you have botocore 1.19.56 which is incompatible.\n",
      "pytorch-lightning 2.5.0.post0 requires PyYAML>=5.4, but you have pyyaml 5.3.1 which is incompatible.\n",
      "sagemaker 2.228.0 requires boto3<2.0,>=1.34.142, but you have boto3 1.16.56 which is incompatible.\n",
      "sagemaker 2.228.0 requires pyyaml~=6.0, but you have pyyaml 5.3.1 which is incompatible.\n",
      "sagemaker-mlflow 0.1.0 requires boto3>=1.34, but you have boto3 1.16.56 which is incompatible.\n",
      "sagemaker-studio-analytics-extension 0.1.4 requires boto3<2.0,>=1.26.49, but you have boto3 1.16.56 which is incompatible.\n",
      "sparkmagic 0.21.0 requires pandas<2.0.0,>=0.17.1, but you have pandas 2.2.3 which is incompatible.\u001b[0m\u001b[31m\n",
      "\u001b[0m"
     ]
    }
   ],
   "source": [
    "!pip install --disable-pip-version-check -q awscli==1.18.216 boto3==1.16.56 botocore==1.19.56"
   ]
  },
  {
   "cell_type": "code",
   "execution_count": 5,
   "id": "3e565e82-bd5e-4205-a532-c55a4e7f07af",
   "metadata": {},
   "outputs": [],
   "source": [
    "!pip install --disable-pip-version-check -q sagemaker==2.29.0\n",
    "!pip install --disable-pip-version-check -q smdebug==1.0.1\n",
    "!pip install --disable-pip-version-check -q sagemaker-experiments==0.1.26"
   ]
  },
  {
   "cell_type": "code",
   "execution_count": 6,
   "id": "05f23502-153b-4815-8909-e7c05eed9b2d",
   "metadata": {},
   "outputs": [
    {
     "name": "stdout",
     "output_type": "stream",
     "text": [
      "Channels:\n",
      " - pytorch\n",
      " - conda-forge\n",
      "Platform: linux-64\n",
      "Collecting package metadata (repodata.json): done\n",
      "Solving environment: | ^C\n"
     ]
    }
   ],
   "source": [
    "\n",
    "!conda install -y pytorch==1.6.0 -c pytorch"
   ]
  },
  {
   "cell_type": "code",
   "execution_count": 7,
   "id": "55f8592e-ef5d-4d85-827c-84cf5127ca6f",
   "metadata": {},
   "outputs": [
    {
     "name": "stdout",
     "output_type": "stream",
     "text": [
      "Collecting imblearn\n",
      "  Downloading imblearn-0.0-py2.py3-none-any.whl.metadata (355 bytes)\n",
      "Collecting imbalanced-learn (from imblearn)\n",
      "  Downloading imbalanced_learn-0.13.0-py3-none-any.whl.metadata (8.8 kB)\n",
      "Requirement already satisfied: numpy<3,>=1.24.3 in /opt/conda/lib/python3.11/site-packages (from imbalanced-learn->imblearn) (1.26.4)\n",
      "Requirement already satisfied: scipy<2,>=1.10.1 in /opt/conda/lib/python3.11/site-packages (from imbalanced-learn->imblearn) (1.15.1)\n",
      "Requirement already satisfied: scikit-learn<2,>=1.3.2 in /opt/conda/lib/python3.11/site-packages (from imbalanced-learn->imblearn) (1.5.2)\n",
      "Collecting sklearn-compat<1,>=0.1 (from imbalanced-learn->imblearn)\n",
      "  Downloading sklearn_compat-0.1.3-py3-none-any.whl.metadata (18 kB)\n",
      "Requirement already satisfied: joblib<2,>=1.1.1 in /opt/conda/lib/python3.11/site-packages (from imbalanced-learn->imblearn) (1.4.2)\n",
      "Requirement already satisfied: threadpoolctl<4,>=2.0.0 in /opt/conda/lib/python3.11/site-packages (from imbalanced-learn->imblearn) (3.5.0)\n",
      "Downloading imblearn-0.0-py2.py3-none-any.whl (1.9 kB)\n",
      "Downloading imbalanced_learn-0.13.0-py3-none-any.whl (238 kB)\n",
      "Downloading sklearn_compat-0.1.3-py3-none-any.whl (18 kB)\n",
      "Installing collected packages: sklearn-compat, imbalanced-learn, imblearn\n",
      "Successfully installed imbalanced-learn-0.13.0 imblearn-0.0 sklearn-compat-0.1.3\n"
     ]
    }
   ],
   "source": [
    "!pip install imblearn"
   ]
  },
  {
   "cell_type": "code",
   "execution_count": 8,
   "id": "46db1dd7-8956-410f-9941-9280371f7456",
   "metadata": {},
   "outputs": [
    {
     "name": "stdout",
     "output_type": "stream",
     "text": [
      "\u001b[31mERROR: Could not find a version that satisfies the requirement time (from versions: none)\u001b[0m\u001b[31m\n",
      "\u001b[0m\u001b[31mERROR: No matching distribution found for time\u001b[0m\u001b[31m\n",
      "\u001b[0m"
     ]
    }
   ],
   "source": [
    "!pip install time"
   ]
  },
  {
   "cell_type": "code",
   "execution_count": 9,
   "id": "46392ddb-ab11-401c-a2e6-a6eb95c8b039",
   "metadata": {},
   "outputs": [
    {
     "name": "stdout",
     "output_type": "stream",
     "text": [
      "\u001b[31mERROR: Could not find a version that satisfies the requirement tensorflow==2.8.1 (from versions: 2.12.0rc0, 2.12.0rc1, 2.12.0, 2.12.1, 2.13.0rc0, 2.13.0rc1, 2.13.0rc2, 2.13.0, 2.13.1, 2.14.0rc0, 2.14.0rc1, 2.14.0, 2.14.1, 2.15.0rc0, 2.15.0rc1, 2.15.0, 2.15.0.post1, 2.15.1, 2.16.0rc0, 2.16.1, 2.16.2, 2.17.0rc0, 2.17.0rc1, 2.17.0, 2.17.1, 2.18.0rc0, 2.18.0rc1, 2.18.0rc2, 2.18.0, 2.18.1, 2.19.0rc0, 2.19.0)\u001b[0m\u001b[31m\n",
      "\u001b[0m\u001b[31mERROR: No matching distribution found for tensorflow==2.8.1\u001b[0m\u001b[31m\n",
      "\u001b[0m"
     ]
    }
   ],
   "source": [
    "!pip install --disable-pip-version-check -q tensorflow==2.8.1"
   ]
  },
  {
   "cell_type": "code",
   "execution_count": 10,
   "id": "e144560f-73ea-4636-9733-3c382a281f21",
   "metadata": {},
   "outputs": [
    {
     "name": "stdout",
     "output_type": "stream",
     "text": [
      "  \u001b[1;31merror\u001b[0m: \u001b[1msubprocess-exited-with-error\u001b[0m\n",
      "  \n",
      "  \u001b[31m×\u001b[0m \u001b[32mpython setup.py egg_info\u001b[0m did not run successfully.\n",
      "  \u001b[31m│\u001b[0m exit code: \u001b[1;36m1\u001b[0m\n",
      "  \u001b[31m╰─>\u001b[0m \u001b[31m[2 lines of output]\u001b[0m\n",
      "  \u001b[31m   \u001b[0m /bin/sh: 1: pkg-config: not found\n",
      "  \u001b[31m   \u001b[0m Failed to find sentencepiece pkgconfig\n",
      "  \u001b[31m   \u001b[0m \u001b[31m[end of output]\u001b[0m\n",
      "  \n",
      "  \u001b[1;35mnote\u001b[0m: This error originates from a subprocess, and is likely not a problem with pip.\n",
      "\u001b[1;31merror\u001b[0m: \u001b[1mmetadata-generation-failed\u001b[0m\n",
      "\n",
      "\u001b[31m×\u001b[0m Encountered error while generating package metadata.\n",
      "\u001b[31m╰─>\u001b[0m See above for output.\n",
      "\n",
      "\u001b[1;35mnote\u001b[0m: This is an issue with the package mentioned above, not pip.\n",
      "\u001b[1;36mhint\u001b[0m: See above for details.\n"
     ]
    }
   ],
   "source": [
    "!pip install --disable-pip-version-check -q transformers==3.5.1"
   ]
  },
  {
   "cell_type": "code",
   "execution_count": 11,
   "id": "2ee7af41-2afa-4519-a020-6d1f1fb9fb4a",
   "metadata": {},
   "outputs": [],
   "source": [
    "!pip install --disable-pip-version-check -q torchserve==0.3.0\n",
    "!pip install --disable-pip-version-check -q torch-model-archiver==0.3.0"
   ]
  },
  {
   "cell_type": "code",
   "execution_count": 12,
   "id": "40e7842f-6f40-4fa6-800b-d8c480b623d1",
   "metadata": {},
   "outputs": [
    {
     "name": "stdout",
     "output_type": "stream",
     "text": [
      "^C\n",
      "\u001b[31mERROR: Operation cancelled by user\u001b[0m\u001b[31m\n",
      "\u001b[0m"
     ]
    }
   ],
   "source": [
    "!pip install --disable-pip-version-check -q PyAthena==2.1.0"
   ]
  },
  {
   "cell_type": "code",
   "execution_count": 13,
   "id": "bb63db44-0e1a-4922-8425-027cd6956be8",
   "metadata": {},
   "outputs": [
    {
     "name": "stdout",
     "output_type": "stream",
     "text": [
      "\u001b[31mERROR: pip's dependency resolver does not currently take into account all the packages that are installed. This behaviour is the source of the following dependency conflicts.\n",
      "jupyter-scheduler 2.10.0 requires sqlalchemy<3,>=2.0, but you have sqlalchemy 1.3.22 which is incompatible.\n",
      "langchain 0.3.17 requires SQLAlchemy<3,>=1.4, but you have sqlalchemy 1.3.22 which is incompatible.\n",
      "langchain-community 0.3.16 requires SQLAlchemy<3,>=1.4, but you have sqlalchemy 1.3.22 which is incompatible.\n",
      "mlflow 2.20.1 requires sqlalchemy<3,>=1.4.0, but you have sqlalchemy 1.3.22 which is incompatible.\n",
      "optuna 4.2.0 requires sqlalchemy>=1.4.2, but you have sqlalchemy 1.3.22 which is incompatible.\n",
      "sagemaker-mlflow 0.1.0 requires boto3>=1.34, but you have boto3 1.16.56 which is incompatible.\u001b[0m\u001b[31m\n",
      "\u001b[0m"
     ]
    }
   ],
   "source": [
    "\n",
    "!pip install --disable-pip-version-check -q SQLAlchemy==1.3.22"
   ]
  },
  {
   "cell_type": "code",
   "execution_count": 14,
   "id": "55f99a2f-e24a-47a0-a8d2-487974d2c699",
   "metadata": {},
   "outputs": [
    {
     "name": "stdout",
     "output_type": "stream",
     "text": [
      "\u001b[31mERROR: Ignored the following yanked versions: 3.2.0\u001b[0m\u001b[31m\n",
      "\u001b[0m\u001b[31mERROR: Could not find a version that satisfies the requirement awswrangler==2.15.0 (from versions: 0.0b0, 0.0b2, 0.0b3, 0.0b4, 0.0b5, 0.0b6, 0.0b7, 0.0b8, 0.0b9, 0.0b10, 0.0b11, 0.0b12, 0.0b13, 0.0b14, 0.0b15, 0.0b16, 0.0b17, 0.0b18, 0.0b19, 0.0b20, 0.0b21, 0.0b22, 0.0b23, 0.0b24, 0.0b25, 0.0b26, 0.0b27, 0.0b28, 0.0b29, 0.0b30, 0.0b31, 0.0b32, 0.0.1, 0.0.2, 0.0.3, 0.0.4, 0.0.5, 0.0.6, 0.0.7, 0.0.8, 0.0.9, 0.0.10, 0.0.11, 0.0.12, 0.0.13, 0.0.14, 0.0.15, 0.0.16, 0.0.17, 0.0.18, 0.0.19, 0.0.20, 0.0.21, 0.0.22, 0.0.23, 0.0.24, 0.0.25, 0.1.0, 0.1.1, 0.1.2, 0.1.3, 0.1.4, 0.2.0, 0.2.1, 0.2.2, 0.2.3, 0.2.4, 0.2.5, 0.2.6, 0.3.0, 0.3.1, 0.3.2, 2.18.0, 2.19.0, 2.20.0, 2.20.1, 3.0.0rc1, 3.0.0rc2, 3.0.0rc3, 3.0.0, 3.1.0, 3.1.1, 3.2.1, 3.3.0, 3.4.0, 3.4.1, 3.4.2, 3.5.0, 3.5.1, 3.5.2, 3.6.0, 3.7.0, 3.7.1, 3.7.2, 3.7.3, 3.8.0, 3.9.0, 3.9.1, 3.10.0, 3.10.1, 3.11.0)\u001b[0m\u001b[31m\n",
      "\u001b[0m\u001b[31mERROR: No matching distribution found for awswrangler==2.15.0\u001b[0m\u001b[31m\n",
      "\u001b[0m"
     ]
    }
   ],
   "source": [
    "!pip install --disable-pip-version-check -q awswrangler==2.15.0"
   ]
  },
  {
   "cell_type": "code",
   "execution_count": 15,
   "id": "f82a7398-a989-4c36-93eb-3d79c69e934f",
   "metadata": {},
   "outputs": [],
   "source": [
    "!pip install --disable-pip-version-check -q stepfunctions==2.0.0rc1"
   ]
  },
  {
   "cell_type": "code",
   "execution_count": 16,
   "id": "e850fc6e-bd74-412e-b802-0c5d3edf8a8e",
   "metadata": {},
   "outputs": [
    {
     "name": "stdout",
     "output_type": "stream",
     "text": [
      "Channels:\n",
      " - conda-forge\n",
      "Platform: linux-64\n",
      "Collecting package metadata (repodata.json): / ^C\n",
      "failed\n",
      "\n",
      "CondaError: KeyboardInterrupt\n",
      "\n"
     ]
    }
   ],
   "source": [
    "!conda install -y zip"
   ]
  },
  {
   "cell_type": "code",
   "execution_count": null,
   "id": "ee0c18ee-b3e4-4359-93eb-b5fe04c5f0b1",
   "metadata": {},
   "outputs": [],
   "source": [
    "!pip install --disable-pip-version-check -q matplotlib==3.1.3"
   ]
  },
  {
   "cell_type": "code",
   "execution_count": null,
   "id": "f309b0a6-2f81-4e90-bda6-053ef956f96e",
   "metadata": {},
   "outputs": [],
   "source": [
    "!pip install --disable-pip-version-check -q seaborn==0.10.0"
   ]
  },
  {
   "cell_type": "code",
   "execution_count": null,
   "id": "00d99e9f-4255-446b-83d4-a70ad35dd70f",
   "metadata": {},
   "outputs": [],
   "source": [
    "!pip install protobuf==3.20.*\n",
    "!python --version"
   ]
  },
  {
   "cell_type": "code",
   "execution_count": null,
   "id": "8a6f4031-da21-44b0-9ddc-fb83796633ad",
   "metadata": {},
   "outputs": [],
   "source": [
    "!pip list"
   ]
  },
  {
   "cell_type": "code",
   "execution_count": null,
   "id": "db53447e-ba3b-4a81-92c2-b51c0dffa84c",
   "metadata": {},
   "outputs": [],
   "source": [
    "setup_dependencies_passed = True"
   ]
  },
  {
   "cell_type": "code",
   "execution_count": null,
   "id": "da1aa9e3-c652-427b-a45a-b90bc82d5d6e",
   "metadata": {},
   "outputs": [],
   "source": [
    "%store setup_dependencies_passed"
   ]
  },
  {
   "cell_type": "code",
   "execution_count": null,
   "id": "0225a2ac-483b-464e-8dfd-57ca17854cd9",
   "metadata": {},
   "outputs": [],
   "source": [
    "%store"
   ]
  },
  {
   "cell_type": "code",
   "execution_count": null,
   "id": "eaea7d95-bc6f-4220-8342-2b347ac3a7e5",
   "metadata": {},
   "outputs": [],
   "source": [
    "!pip install --disable-pip-version-check -q sagemaker==2.29.0\n",
    "import boto3\n",
    "import sagemaker\n",
    "\n",
    "session = boto3.session.Session()\n",
    "region = session.region_name\n",
    "sagemaker_session = sagemaker.Session()\n",
    "bucket = sagemaker_session.default_bucket()\n",
    "\n",
    "s3 = boto3.Session().client(service_name=\"s3\", region_name=region)"
   ]
  },
  {
   "cell_type": "code",
   "execution_count": null,
   "id": "66fde1fe-e1c6-46dd-a487-a7bdb461ef3b",
   "metadata": {},
   "outputs": [],
   "source": [
    "\n",
    "setup_s3_bucket_passed = False"
   ]
  },
  {
   "cell_type": "code",
   "execution_count": null,
   "id": "6037b155-b048-4f6a-aaa9-5b5ab9cf0af3",
   "metadata": {},
   "outputs": [],
   "source": [
    "print(\"Default bucket: {}\".format(bucket))"
   ]
  },
  {
   "cell_type": "code",
   "execution_count": null,
   "id": "cae35fac-fabd-422c-bcd7-c613b95bb777",
   "metadata": {},
   "outputs": [],
   "source": [
    "%%bash\n",
    "\n",
    "aws s3 ls s3://${bucket}/"
   ]
  },
  {
   "cell_type": "code",
   "execution_count": null,
   "id": "c22d3e4f-6c61-4b88-bd47-c1014ed1dea9",
   "metadata": {},
   "outputs": [],
   "source": [
    "from botocore.client import ClientError\n",
    "\n",
    "response = None\n",
    "\n",
    "try:\n",
    "    response = s3.head_bucket(Bucket=bucket)\n",
    "    print(response)\n",
    "    setup_s3_bucket_passed = True\n",
    "except ClientError as e:\n",
    "    print(\"[ERROR] Cannot find bucket {} in {} due to {}.\".format(bucket, response, e))"
   ]
  },
  {
   "cell_type": "code",
   "execution_count": null,
   "id": "3f256dfd-73b2-40fc-86c9-2701231a6937",
   "metadata": {},
   "outputs": [],
   "source": [
    "%store setup_s3_bucket_passed"
   ]
  },
  {
   "cell_type": "code",
   "execution_count": null,
   "id": "a642a410-0bf3-40b1-a98d-4aef485fb859",
   "metadata": {},
   "outputs": [],
   "source": [
    "%store"
   ]
  },
  {
   "cell_type": "code",
   "execution_count": null,
   "id": "cb267aab-87ce-4213-abf3-4cf043638d3d",
   "metadata": {},
   "outputs": [],
   "source": [
    "%store"
   ]
  },
  {
   "cell_type": "code",
   "execution_count": 1,
   "id": "639259b7-7c91-4dfa-a9ea-2ce66231a724",
   "metadata": {},
   "outputs": [],
   "source": [
    "import boto3\n",
    "import sagemaker\n",
    "import time\n",
    "from time import gmtime, strftime\n",
    "\n",
    "sagemaker_session = sagemaker.Session()\n",
    "role = sagemaker.get_execution_role()\n",
    "bucket = sagemaker_session.default_bucket()\n",
    "region = boto3.Session().region_name\n",
    "\n",
    "from botocore.config import Config\n",
    "\n",
    "config = Config(retries={\"max_attempts\": 10, \"mode\": \"adaptive\"})\n",
    "\n",
    "iam = boto3.client(\"iam\", config=config)"
   ]
  },
  {
   "cell_type": "code",
   "execution_count": 4,
   "id": "2cbbf371-0457-4279-8373-256c286ae19c",
   "metadata": {},
   "outputs": [
    {
     "name": "stdout",
     "output_type": "stream",
     "text": [
      "Role name: LabRole\n"
     ]
    }
   ],
   "source": [
    "role_name = role.split(\"/\")[-1]\n",
    "\n",
    "print(\"Role name: {}\".format(role_name))"
   ]
  },
  {
   "cell_type": "code",
   "execution_count": 5,
   "id": "a8566435-9b87-48e3-9707-a637741baeda",
   "metadata": {},
   "outputs": [],
   "source": [
    "setup_iam_roles_passed = False"
   ]
  },
  {
   "cell_type": "code",
   "execution_count": 6,
   "id": "96478fae-6fb8-4fb7-b289-e81711895a50",
   "metadata": {},
   "outputs": [
    {
     "name": "stdout",
     "output_type": "stream",
     "text": [
      "[OK] You are all set up to continue with this workshop!\n"
     ]
    }
   ],
   "source": [
    "admin = False\n",
    "post_policies = iam.list_attached_role_policies(RoleName=role_name)[\"AttachedPolicies\"]\n",
    "for post_policy in post_policies:\n",
    "    if post_policy[\"PolicyName\"] == \"AdministratorAccess\":\n",
    "        admin = True\n",
    "        break\n",
    "\n",
    "setup_iam_roles_passed = True\n",
    "print(\"[OK] You are all set up to continue with this workshop!\")"
   ]
  },
  {
   "cell_type": "code",
   "execution_count": 7,
   "id": "cc40597d-a502-43fc-aa90-71d9f49b1654",
   "metadata": {},
   "outputs": [
    {
     "name": "stdout",
     "output_type": "stream",
     "text": [
      "Stored 'setup_iam_roles_passed' (bool)\n"
     ]
    }
   ],
   "source": [
    "%store setup_iam_roles_passed"
   ]
  },
  {
   "cell_type": "code",
   "execution_count": 8,
   "id": "4bed217b-8666-472c-a0b9-515e21f21871",
   "metadata": {},
   "outputs": [
    {
     "name": "stdout",
     "output_type": "stream",
     "text": [
      "Stored variables and their in-db values:\n",
      "s3_private_path_tsv                   -> 's3://sagemaker-us-east-1-373893336492/inspections\n",
      "s3_public_path_tsv                    -> 's3://usd-mads-508/inspections-pds/tsv'\n",
      "setup_dependencies_passed             -> True\n",
      "setup_iam_roles_passed                -> True\n",
      "setup_s3_bucket_passed                -> True\n"
     ]
    }
   ],
   "source": [
    "%store"
   ]
  },
  {
   "cell_type": "code",
   "execution_count": 9,
   "id": "f97170b8-0344-4a9b-af6b-b336b47d7ffe",
   "metadata": {},
   "outputs": [
    {
     "data": {
      "text/html": [
       "\n",
       "<p><b>Shutting down your kernel for this notebook to release resources.</b></p>\n",
       "<button class=\"sm-command-button\" data-commandlinker-command=\"kernelmenu:shutdown\" style=\"display:none;\">Shutdown Kernel</button>\n",
       "        \n",
       "<script>\n",
       "try {\n",
       "    els = document.getElementsByClassName(\"sm-command-button\");\n",
       "    els[0].click();\n",
       "}\n",
       "catch(err) {\n",
       "    // NoOp\n",
       "}    \n",
       "</script>\n"
      ],
      "text/plain": [
       "<IPython.core.display.HTML object>"
      ]
     },
     "metadata": {},
     "output_type": "display_data"
    }
   ],
   "source": [
    "%%html\n",
    "\n",
    "<p><b>Shutting down your kernel for this notebook to release resources.</b></p>\n",
    "<button class=\"sm-command-button\" data-commandlinker-command=\"kernelmenu:shutdown\" style=\"display:none;\">Shutdown Kernel</button>\n",
    "        \n",
    "<script>\n",
    "try {\n",
    "    els = document.getElementsByClassName(\"sm-command-button\");\n",
    "    els[0].click();\n",
    "}\n",
    "catch(err) {\n",
    "    // NoOp\n",
    "}    \n",
    "</script>"
   ]
  },
  {
   "cell_type": "code",
   "execution_count": 1,
   "id": "7ab3e250-9963-4350-b0ba-fcd6d162ae04",
   "metadata": {},
   "outputs": [
    {
     "data": {
      "application/javascript": [
       "\n",
       "try {\n",
       "    Jupyter.notebook.save_checkpoint();\n",
       "    Jupyter.notebook.session.delete();\n",
       "}\n",
       "catch(err) {\n",
       "    // NoOp\n",
       "}\n"
      ],
      "text/plain": [
       "<IPython.core.display.Javascript object>"
      ]
     },
     "metadata": {},
     "output_type": "display_data"
    }
   ],
   "source": [
    "%%javascript\n",
    "\n",
    "try {\n",
    "    Jupyter.notebook.save_checkpoint();\n",
    "    Jupyter.notebook.session.delete();\n",
    "}\n",
    "catch(err) {\n",
    "    // NoOp\n",
    "}"
   ]
  },
  {
   "cell_type": "code",
   "execution_count": null,
   "id": "90403592-2bad-4e65-9b8b-d1521fb3ec38",
   "metadata": {},
   "outputs": [],
   "source": []
  }
 ],
 "metadata": {
  "kernelspec": {
   "display_name": "Python 3 (ipykernel)",
   "language": "python",
   "name": "python3"
  },
  "language_info": {
   "codemirror_mode": {
    "name": "ipython",
    "version": 3
   },
   "file_extension": ".py",
   "mimetype": "text/x-python",
   "name": "python",
   "nbconvert_exporter": "python",
   "pygments_lexer": "ipython3",
   "version": "3.11.11"
  }
 },
 "nbformat": 4,
 "nbformat_minor": 5
}
