{
 "cells": [
  {
   "cell_type": "code",
   "execution_count": 7,
   "id": "6057974c-b290-45dd-9e08-ebb691cbb791",
   "metadata": {},
   "outputs": [],
   "source": [
    "import boto3\n",
    "import sagemaker\n",
    "import pandas as pd\n",
    "\n",
    "sess = sagemaker.Session()\n",
    "bucket = sess.default_bucket()\n",
    "role = sagemaker.get_execution_role()\n",
    "region = boto3.Session().region_name\n",
    "account_id = boto3.client(\"sts\").get_caller_identity().get(\"Account\")\n",
    "\n",
    "sm = boto3.Session().client(service_name=\"sagemaker\", region_name=region)\n",
    "\n",
    "s3_public_path_tsv = \"s3://inspections-pds\""
   ]
  },
  {
   "cell_type": "code",
   "execution_count": 8,
   "id": "4721eb76-39d5-4fea-ab6c-c450b5314859",
   "metadata": {},
   "outputs": [
    {
     "name": "stdout",
     "output_type": "stream",
     "text": [
      "Stored 's3_public_path_tsv' (str)\n"
     ]
    }
   ],
   "source": [
    "%store s3_public_path_tsv"
   ]
  },
  {
   "cell_type": "code",
   "execution_count": 9,
   "id": "2985038a-a30b-4c03-bad9-693d3a97ff70",
   "metadata": {},
   "outputs": [
    {
     "name": "stdout",
     "output_type": "stream",
     "text": [
      "s3://sagemaker-us-east-1-373893336492/inspections-pds\n"
     ]
    }
   ],
   "source": [
    "s3_private_path_tsv = \"s3://{}/inspections-pds\".format(bucket)\n",
    "print(s3_private_path_tsv)"
   ]
  },
  {
   "cell_type": "code",
   "execution_count": 10,
   "id": "ebba17f6-0ebb-475c-abf7-8fad6ae7bf58",
   "metadata": {},
   "outputs": [
    {
     "name": "stdout",
     "output_type": "stream",
     "text": [
      "Stored 's3_private_path_tsv' (str)\n"
     ]
    }
   ],
   "source": [
    "%store s3_private_path_tsv"
   ]
  },
  {
   "cell_type": "code",
   "execution_count": 12,
   "id": "52e769b4-59fa-4c3d-8821-3073a14e5bf8",
   "metadata": {},
   "outputs": [
    {
     "name": "stdout",
     "output_type": "stream",
     "text": [
      "copy: s3://inspections-pds/build/buildings.tsv to s3://sagemaker-us-east-1-373893336492/inspections-pds/build/buildings.tsv\n",
      "copy: s3://inspections-pds/district/dist.tsv to s3://sagemaker-us-east-1-373893336492/inspections-pds/district/dist.tsv\n",
      "copy: s3://inspections-pds/inspections/inspect.tsv to s3://sagemaker-us-east-1-373893336492/inspections-pds/inspections/inspect.tsv\n",
      "copy: s3://inspections-pds/businesses/registered.tsv to s3://sagemaker-us-east-1-373893336492/inspections-pds/businesses/registered.tsv\n"
     ]
    }
   ],
   "source": [
    "!aws s3 cp --recursive $s3_public_path_tsv/ $s3_private_path_tsv/ --exclude \"*\" --include \"build/buildings.tsv\"\n",
    "!aws s3 cp --recursive $s3_public_path_tsv/ $s3_private_path_tsv/ --exclude \"*\" --include \"district/dist.tsv\"\n",
    "!aws s3 cp --recursive $s3_public_path_tsv/ $s3_private_path_tsv/ --exclude \"*\" --include \"inspections/inspect.tsv\"\n",
    "!aws s3 cp --recursive $s3_public_path_tsv/ $s3_private_path_tsv/ --exclude \"*\" --include \"businesses/registered.tsv\""
   ]
  },
  {
   "cell_type": "code",
   "execution_count": 13,
   "id": "43c075eb-f2d9-4306-8372-e3bbc253e98b",
   "metadata": {},
   "outputs": [
    {
     "name": "stdout",
     "output_type": "stream",
     "text": [
      "s3://sagemaker-us-east-1-373893336492/inspections-pds\n"
     ]
    }
   ],
   "source": [
    "print(s3_private_path_tsv)"
   ]
  },
  {
   "cell_type": "code",
   "execution_count": 14,
   "id": "381e3d86-ee25-4201-aaae-3da8dbc34994",
   "metadata": {},
   "outputs": [
    {
     "name": "stdout",
     "output_type": "stream",
     "text": [
      "                           PRE build/\n",
      "                           PRE businesses/\n",
      "                           PRE district/\n",
      "                           PRE inspections/\n",
      "2025-03-15 19:29:32      99174 buildings.tsv\n",
      "2025-03-15 19:29:33        197 dist.tsv\n",
      "2025-03-15 19:29:34    1449869 inspect.tsv\n",
      "2025-03-15 19:29:35     266390 registered.tsv\n"
     ]
    }
   ],
   "source": [
    "!aws s3 ls $s3_private_path_tsv/"
   ]
  },
  {
   "cell_type": "code",
   "execution_count": 15,
   "id": "329396d2-1def-494e-876e-7180b5d9973a",
   "metadata": {},
   "outputs": [
    {
     "name": "stdout",
     "output_type": "stream",
     "text": [
      "Stored variables and their in-db values:\n",
      "ingest_create_athena_db_passed             -> True\n",
      "s3_private_path_tsv                        -> 's3://sagemaker-us-east-1-373893336492/inspections\n",
      "s3_public_path_tsv                         -> 's3://inspections-pds'\n",
      "setup_dependencies_passed                  -> True\n",
      "setup_iam_roles_passed                     -> True\n",
      "setup_s3_bucket_passed                     -> True\n"
     ]
    }
   ],
   "source": [
    "%store"
   ]
  },
  {
   "cell_type": "code",
   "execution_count": 16,
   "id": "63e71739-f64d-44cc-8a1a-8ee7d26dcf1e",
   "metadata": {},
   "outputs": [
    {
     "data": {
      "text/html": [
       "<b>Review <a target=\"blank\" href=\"https://s3.console.aws.amazon.com/s3/buckets/sagemaker-us-east-1-373893336492/inspections-pds/?region=us-east-1&tab=overview\">S3 Bucket</a></b>"
      ],
      "text/plain": [
       "<IPython.core.display.HTML object>"
      ]
     },
     "metadata": {},
     "output_type": "display_data"
    }
   ],
   "source": [
    "from IPython.display import display, HTML\n",
    "\n",
    "display(\n",
    "    HTML(\n",
    "        '<b>Review <a target=\"blank\" href=\"https://s3.console.aws.amazon.com/s3/buckets/sagemaker-{}-{}/inspections-pds/?region={}&tab=overview\">S3 Bucket</a></b>'.format(\n",
    "            region, account_id, region\n",
    "        )\n",
    "    )\n",
    ")"
   ]
  },
  {
   "cell_type": "code",
   "execution_count": 17,
   "id": "7809095d-e88a-4a0f-ae88-6bcae6b61ffc",
   "metadata": {},
   "outputs": [
    {
     "data": {
      "text/html": [
       "\n",
       "<p><b>Shutting down your kernel for this notebook to release resources.</b></p>\n",
       "<button class=\"sm-command-button\" data-commandlinker-command=\"kernelmenu:shutdown\" style=\"display:none;\">Shutdown Kernel</button>\n",
       "        \n",
       "<script>\n",
       "try {\n",
       "    els = document.getElementsByClassName(\"sm-command-button\");\n",
       "    els[0].click();\n",
       "}\n",
       "catch(err) {\n",
       "    // NoOp\n",
       "}    \n",
       "</script>\n"
      ],
      "text/plain": [
       "<IPython.core.display.HTML object>"
      ]
     },
     "metadata": {},
     "output_type": "display_data"
    }
   ],
   "source": [
    "%%html\n",
    "\n",
    "<p><b>Shutting down your kernel for this notebook to release resources.</b></p>\n",
    "<button class=\"sm-command-button\" data-commandlinker-command=\"kernelmenu:shutdown\" style=\"display:none;\">Shutdown Kernel</button>\n",
    "        \n",
    "<script>\n",
    "try {\n",
    "    els = document.getElementsByClassName(\"sm-command-button\");\n",
    "    els[0].click();\n",
    "}\n",
    "catch(err) {\n",
    "    // NoOp\n",
    "}    \n",
    "</script>"
   ]
  },
  {
   "cell_type": "code",
   "execution_count": 1,
   "id": "fcc197f6-38b5-4726-bb10-93bf9166aa6c",
   "metadata": {},
   "outputs": [
    {
     "data": {
      "application/javascript": [
       "\n",
       "try {\n",
       "    Jupyter.notebook.save_checkpoint();\n",
       "    Jupyter.notebook.session.delete();\n",
       "}\n",
       "catch(err) {\n",
       "    // NoOp\n",
       "}\n"
      ],
      "text/plain": [
       "<IPython.core.display.Javascript object>"
      ]
     },
     "metadata": {},
     "output_type": "display_data"
    }
   ],
   "source": [
    "%%javascript\n",
    "\n",
    "try {\n",
    "    Jupyter.notebook.save_checkpoint();\n",
    "    Jupyter.notebook.session.delete();\n",
    "}\n",
    "catch(err) {\n",
    "    // NoOp\n",
    "}"
   ]
  },
  {
   "cell_type": "code",
   "execution_count": null,
   "id": "9a02b546-32d9-43a2-b3e5-53d105669e21",
   "metadata": {},
   "outputs": [],
   "source": []
  }
 ],
 "metadata": {
  "kernelspec": {
   "display_name": "Python 3 (ipykernel)",
   "language": "python",
   "name": "python3"
  },
  "language_info": {
   "codemirror_mode": {
    "name": "ipython",
    "version": 3
   },
   "file_extension": ".py",
   "mimetype": "text/x-python",
   "name": "python",
   "nbconvert_exporter": "python",
   "pygments_lexer": "ipython3",
   "version": "3.11.11"
  }
 },
 "nbformat": 4,
 "nbformat_minor": 5
}
